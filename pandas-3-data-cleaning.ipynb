{
 "cells": [
  {
   "cell_type": "markdown",
   "metadata": {},
   "source": [
    "# Data Cleaning with Pandas"
   ]
  },
  {
   "cell_type": "code",
   "execution_count": 185,
   "metadata": {},
   "outputs": [],
   "source": [
    "import pandas as pd"
   ]
  },
  {
   "cell_type": "code",
   "execution_count": 3,
   "metadata": {},
   "outputs": [
    {
     "data": {
      "text/plain": [
       "\"medium data: excel can't open, tableau can\""
      ]
     },
     "execution_count": 3,
     "metadata": {},
     "output_type": "execute_result"
    }
   ],
   "source": [
    "\"\"\"medium data: excel can't open, tableau can\"\"\""
   ]
  },
  {
   "cell_type": "markdown",
   "metadata": {},
   "source": [
    "## Scenario\n",
    "\n",
    "As data scientists, we want to build a model to predict the sale price of a house in Seattle in 2019, based on its square footage. We know that the King County Department of Assessments has comprehensive data available on real property sales in the Seattle area. We need to prepare the data."
   ]
  },
  {
   "cell_type": "markdown",
   "metadata": {},
   "source": [
    "### First, get the data!\n",
    "\n",
    "When working on a project involving data that can fit on our computer, we store it in a `data` directory.\n",
    "\n",
    "```bash\n",
    "cd <project_directory>  # example: cd ~/flatiron_ds/pandas-3\n",
    "mkdir data\n",
    "cd data\n",
    "```\n",
    "\n",
    "Note that `<project_directory>` in angle brackets is a _placeholder_. You should type the path to the actual location on your computer where you're working on this project. Do not literally type `<project_directory>` and _do not type the angle brackets_. You can see an example in the _comment_ to the right of the command above.\n",
    "\n",
    "Now, we'll need to download the two data files that we need. We can do this at the command line:\n",
    "\n",
    "```bash\n",
    "wget https://aqua.kingcounty.gov/extranet/assessor/Real%20Property%20Sales.zip\n",
    "wget https://aqua.kingcounty.gov/extranet/assessor/Residential%20Building.zip\n",
    "```\n",
    "\n",
    "*Note:* If you do not have the `wget` command yet, you can install it: `brew install wget`.\n",
    "\n",
    "Note that `%20` in a URL translates into a space. Even though you will *never put spaces in filenames*, you may need to deal with spaces that _other_ people have used in filenames.\n",
    "\n",
    "There are two ways to handle the spaces in these filenames when referencing them at the command line.\n",
    "\n",
    "#### 1. You can _escape_ the spaces by putting a backslash (`\\`, remember _backslash is next to backspace_) before each one:\n",
    "\n",
    "`unzip Real\\ Property\\ Sales.zip`\n",
    "\n",
    "This is what happens if you tab-complete the filename in the terminal. Tab completion is your friend!\n",
    "\n",
    "#### 2. You can put the entire filename in quotes:\n",
    "\n",
    "`unzip \"Real Property Sales.zip\"`\n",
    "\n",
    "Try unzipping these files with the `unzip` command. The `unzip` command takes one argument, the name of the tile that you want to unzip.\n",
    "\n",
    "\n",
    "You can use tab completion (press the `tab` key after the first three letters) to fill in the names, including spaces. This will "
   ]
  },
  {
   "cell_type": "code",
   "execution_count": 4,
   "metadata": {
    "scrolled": true
   },
   "outputs": [
    {
     "name": "stderr",
     "output_type": "stream",
     "text": [
      "/Users/krex/anaconda3/lib/python3.7/site-packages/IPython/core/interactiveshell.py:3020: DtypeWarning: Columns (1,2) have mixed types. Specify dtype option on import or set low_memory=False.\n",
      "  interactivity=interactivity, compiler=compiler, result=result)\n"
     ]
    }
   ],
   "source": [
    "sales_df = pd.read_csv('data/EXTR_RPSale.csv')"
   ]
  },
  {
   "cell_type": "markdown",
   "metadata": {},
   "source": [
    "### Seeing pink? Warnings are useful!\n",
    "\n",
    "Note the warning above: `DtypeWarning: Columns (1, 2) have mixed types.` Because we start with an index of zero, the columns that we're being warned about are actually the _second_ and _third_ columns, `sales_df['Major']` and `sales_df['Minor']`."
   ]
  },
  {
   "cell_type": "code",
   "execution_count": 5,
   "metadata": {},
   "outputs": [
    {
     "data": {
      "text/html": [
       "<div>\n",
       "<style scoped>\n",
       "    .dataframe tbody tr th:only-of-type {\n",
       "        vertical-align: middle;\n",
       "    }\n",
       "\n",
       "    .dataframe tbody tr th {\n",
       "        vertical-align: top;\n",
       "    }\n",
       "\n",
       "    .dataframe thead th {\n",
       "        text-align: right;\n",
       "    }\n",
       "</style>\n",
       "<table border=\"1\" class=\"dataframe\">\n",
       "  <thead>\n",
       "    <tr style=\"text-align: right;\">\n",
       "      <th></th>\n",
       "      <th>0</th>\n",
       "      <th>1</th>\n",
       "      <th>2</th>\n",
       "      <th>3</th>\n",
       "      <th>4</th>\n",
       "    </tr>\n",
       "  </thead>\n",
       "  <tbody>\n",
       "    <tr>\n",
       "      <th>ExciseTaxNbr</th>\n",
       "      <td>2687551</td>\n",
       "      <td>1235111</td>\n",
       "      <td>2704079</td>\n",
       "      <td>2584094</td>\n",
       "      <td>1056831</td>\n",
       "    </tr>\n",
       "    <tr>\n",
       "      <th>Major</th>\n",
       "      <td>138860</td>\n",
       "      <td>664885</td>\n",
       "      <td>423943</td>\n",
       "      <td>403700</td>\n",
       "      <td>951120</td>\n",
       "    </tr>\n",
       "    <tr>\n",
       "      <th>Minor</th>\n",
       "      <td>110</td>\n",
       "      <td>40</td>\n",
       "      <td>50</td>\n",
       "      <td>715</td>\n",
       "      <td>900</td>\n",
       "    </tr>\n",
       "    <tr>\n",
       "      <th>DocumentDate</th>\n",
       "      <td>08/21/2014</td>\n",
       "      <td>07/09/1991</td>\n",
       "      <td>10/11/2014</td>\n",
       "      <td>01/04/2013</td>\n",
       "      <td>04/20/1989</td>\n",
       "    </tr>\n",
       "    <tr>\n",
       "      <th>SalePrice</th>\n",
       "      <td>245000</td>\n",
       "      <td>0</td>\n",
       "      <td>0</td>\n",
       "      <td>0</td>\n",
       "      <td>85000</td>\n",
       "    </tr>\n",
       "    <tr>\n",
       "      <th>RecordingNbr</th>\n",
       "      <td>20140828001436</td>\n",
       "      <td>199203161090</td>\n",
       "      <td>20141205000558</td>\n",
       "      <td>20130110000910</td>\n",
       "      <td>198904260448</td>\n",
       "    </tr>\n",
       "    <tr>\n",
       "      <th>Volume</th>\n",
       "      <td></td>\n",
       "      <td>071</td>\n",
       "      <td></td>\n",
       "      <td></td>\n",
       "      <td>117</td>\n",
       "    </tr>\n",
       "    <tr>\n",
       "      <th>Page</th>\n",
       "      <td></td>\n",
       "      <td>001</td>\n",
       "      <td></td>\n",
       "      <td></td>\n",
       "      <td>053</td>\n",
       "    </tr>\n",
       "    <tr>\n",
       "      <th>PlatNbr</th>\n",
       "      <td></td>\n",
       "      <td>664885</td>\n",
       "      <td></td>\n",
       "      <td></td>\n",
       "      <td>951120</td>\n",
       "    </tr>\n",
       "    <tr>\n",
       "      <th>PlatType</th>\n",
       "      <td></td>\n",
       "      <td>C</td>\n",
       "      <td></td>\n",
       "      <td></td>\n",
       "      <td>P</td>\n",
       "    </tr>\n",
       "    <tr>\n",
       "      <th>PlatLot</th>\n",
       "      <td></td>\n",
       "      <td>B102</td>\n",
       "      <td></td>\n",
       "      <td></td>\n",
       "      <td>90</td>\n",
       "    </tr>\n",
       "    <tr>\n",
       "      <th>PlatBlock</th>\n",
       "      <td></td>\n",
       "      <td></td>\n",
       "      <td></td>\n",
       "      <td></td>\n",
       "      <td></td>\n",
       "    </tr>\n",
       "    <tr>\n",
       "      <th>SellerName</th>\n",
       "      <td>WENKLE NOEL SMITH -TRUSTEE                    ...</td>\n",
       "      <td>HERRMAN JEFFREY A+PAULINE A                   ...</td>\n",
       "      <td>STEPHENS ANTHONY P                            ...</td>\n",
       "      <td>PASTORS EDWIN                                 ...</td>\n",
       "      <td>STRATHY FLORENCE G                            ...</td>\n",
       "    </tr>\n",
       "    <tr>\n",
       "      <th>BuyerName</th>\n",
       "      <td>ALEXANDER APRIL                               ...</td>\n",
       "      <td>HERRMAN PAULINE A TTEE                        ...</td>\n",
       "      <td>STEPHENS ANTHONY P                            ...</td>\n",
       "      <td>PASTORS KHRISTINA                             ...</td>\n",
       "      <td>PORTER DONALD D+EVELYN V                      ...</td>\n",
       "    </tr>\n",
       "    <tr>\n",
       "      <th>PropertyType</th>\n",
       "      <td>3</td>\n",
       "      <td>3</td>\n",
       "      <td>3</td>\n",
       "      <td>3</td>\n",
       "      <td>3</td>\n",
       "    </tr>\n",
       "    <tr>\n",
       "      <th>PrincipalUse</th>\n",
       "      <td>6</td>\n",
       "      <td>0</td>\n",
       "      <td>6</td>\n",
       "      <td>6</td>\n",
       "      <td>0</td>\n",
       "    </tr>\n",
       "    <tr>\n",
       "      <th>SaleInstrument</th>\n",
       "      <td>3</td>\n",
       "      <td>26</td>\n",
       "      <td>15</td>\n",
       "      <td>15</td>\n",
       "      <td>2</td>\n",
       "    </tr>\n",
       "    <tr>\n",
       "      <th>AFForestLand</th>\n",
       "      <td>N</td>\n",
       "      <td>N</td>\n",
       "      <td>N</td>\n",
       "      <td>N</td>\n",
       "      <td>N</td>\n",
       "    </tr>\n",
       "    <tr>\n",
       "      <th>AFCurrentUseLand</th>\n",
       "      <td>N</td>\n",
       "      <td>N</td>\n",
       "      <td>N</td>\n",
       "      <td>N</td>\n",
       "      <td>N</td>\n",
       "    </tr>\n",
       "    <tr>\n",
       "      <th>AFNonProfitUse</th>\n",
       "      <td>N</td>\n",
       "      <td>N</td>\n",
       "      <td>N</td>\n",
       "      <td>N</td>\n",
       "      <td>N</td>\n",
       "    </tr>\n",
       "    <tr>\n",
       "      <th>AFHistoricProperty</th>\n",
       "      <td>N</td>\n",
       "      <td>N</td>\n",
       "      <td>N</td>\n",
       "      <td>N</td>\n",
       "      <td>N</td>\n",
       "    </tr>\n",
       "    <tr>\n",
       "      <th>SaleReason</th>\n",
       "      <td>1</td>\n",
       "      <td>18</td>\n",
       "      <td>18</td>\n",
       "      <td>11</td>\n",
       "      <td>1</td>\n",
       "    </tr>\n",
       "    <tr>\n",
       "      <th>PropertyClass</th>\n",
       "      <td>8</td>\n",
       "      <td>3</td>\n",
       "      <td>8</td>\n",
       "      <td>8</td>\n",
       "      <td>9</td>\n",
       "    </tr>\n",
       "    <tr>\n",
       "      <th>SaleWarning</th>\n",
       "      <td></td>\n",
       "      <td>11</td>\n",
       "      <td>18 31 51</td>\n",
       "      <td>18 31 38</td>\n",
       "      <td>49</td>\n",
       "    </tr>\n",
       "  </tbody>\n",
       "</table>\n",
       "</div>"
      ],
      "text/plain": [
       "                                                                    0  \\\n",
       "ExciseTaxNbr                                                  2687551   \n",
       "Major                                                          138860   \n",
       "Minor                                                             110   \n",
       "DocumentDate                                               08/21/2014   \n",
       "SalePrice                                                      245000   \n",
       "RecordingNbr                                           20140828001436   \n",
       "Volume                                                                  \n",
       "Page                                                                    \n",
       "PlatNbr                                                                 \n",
       "PlatType                                                                \n",
       "PlatLot                                                                 \n",
       "PlatBlock                                                               \n",
       "SellerName          WENKLE NOEL SMITH -TRUSTEE                    ...   \n",
       "BuyerName           ALEXANDER APRIL                               ...   \n",
       "PropertyType                                                        3   \n",
       "PrincipalUse                                                        6   \n",
       "SaleInstrument                                                      3   \n",
       "AFForestLand                                                        N   \n",
       "AFCurrentUseLand                                                    N   \n",
       "AFNonProfitUse                                                      N   \n",
       "AFHistoricProperty                                                  N   \n",
       "SaleReason                                                          1   \n",
       "PropertyClass                                                       8   \n",
       "SaleWarning                                                             \n",
       "\n",
       "                                                                    1  \\\n",
       "ExciseTaxNbr                                                  1235111   \n",
       "Major                                                          664885   \n",
       "Minor                                                              40   \n",
       "DocumentDate                                               07/09/1991   \n",
       "SalePrice                                                           0   \n",
       "RecordingNbr                                           199203161090     \n",
       "Volume                                                            071   \n",
       "Page                                                              001   \n",
       "PlatNbr                                                        664885   \n",
       "PlatType                                                            C   \n",
       "PlatLot                                                B102             \n",
       "PlatBlock                                                               \n",
       "SellerName          HERRMAN JEFFREY A+PAULINE A                   ...   \n",
       "BuyerName           HERRMAN PAULINE A TTEE                        ...   \n",
       "PropertyType                                                        3   \n",
       "PrincipalUse                                                        0   \n",
       "SaleInstrument                                                     26   \n",
       "AFForestLand                                                        N   \n",
       "AFCurrentUseLand                                                    N   \n",
       "AFNonProfitUse                                                      N   \n",
       "AFHistoricProperty                                                  N   \n",
       "SaleReason                                                         18   \n",
       "PropertyClass                                                       3   \n",
       "SaleWarning                                                        11   \n",
       "\n",
       "                                                                    2  \\\n",
       "ExciseTaxNbr                                                  2704079   \n",
       "Major                                                          423943   \n",
       "Minor                                                              50   \n",
       "DocumentDate                                               10/11/2014   \n",
       "SalePrice                                                           0   \n",
       "RecordingNbr                                           20141205000558   \n",
       "Volume                                                                  \n",
       "Page                                                                    \n",
       "PlatNbr                                                                 \n",
       "PlatType                                                                \n",
       "PlatLot                                                                 \n",
       "PlatBlock                                                               \n",
       "SellerName          STEPHENS ANTHONY P                            ...   \n",
       "BuyerName           STEPHENS ANTHONY P                            ...   \n",
       "PropertyType                                                        3   \n",
       "PrincipalUse                                                        6   \n",
       "SaleInstrument                                                     15   \n",
       "AFForestLand                                                        N   \n",
       "AFCurrentUseLand                                                    N   \n",
       "AFNonProfitUse                                                      N   \n",
       "AFHistoricProperty                                                  N   \n",
       "SaleReason                                                         18   \n",
       "PropertyClass                                                       8   \n",
       "SaleWarning                                                  18 31 51   \n",
       "\n",
       "                                                                    3  \\\n",
       "ExciseTaxNbr                                                  2584094   \n",
       "Major                                                          403700   \n",
       "Minor                                                             715   \n",
       "DocumentDate                                               01/04/2013   \n",
       "SalePrice                                                           0   \n",
       "RecordingNbr                                           20130110000910   \n",
       "Volume                                                                  \n",
       "Page                                                                    \n",
       "PlatNbr                                                                 \n",
       "PlatType                                                                \n",
       "PlatLot                                                                 \n",
       "PlatBlock                                                               \n",
       "SellerName          PASTORS EDWIN                                 ...   \n",
       "BuyerName           PASTORS KHRISTINA                             ...   \n",
       "PropertyType                                                        3   \n",
       "PrincipalUse                                                        6   \n",
       "SaleInstrument                                                     15   \n",
       "AFForestLand                                                        N   \n",
       "AFCurrentUseLand                                                    N   \n",
       "AFNonProfitUse                                                      N   \n",
       "AFHistoricProperty                                                  N   \n",
       "SaleReason                                                         11   \n",
       "PropertyClass                                                       8   \n",
       "SaleWarning                                                  18 31 38   \n",
       "\n",
       "                                                                    4  \n",
       "ExciseTaxNbr                                                  1056831  \n",
       "Major                                                          951120  \n",
       "Minor                                                             900  \n",
       "DocumentDate                                               04/20/1989  \n",
       "SalePrice                                                       85000  \n",
       "RecordingNbr                                           198904260448    \n",
       "Volume                                                            117  \n",
       "Page                                                              053  \n",
       "PlatNbr                                                        951120  \n",
       "PlatType                                                            P  \n",
       "PlatLot                                                90              \n",
       "PlatBlock                                                              \n",
       "SellerName          STRATHY FLORENCE G                            ...  \n",
       "BuyerName           PORTER DONALD D+EVELYN V                      ...  \n",
       "PropertyType                                                        3  \n",
       "PrincipalUse                                                        0  \n",
       "SaleInstrument                                                      2  \n",
       "AFForestLand                                                        N  \n",
       "AFCurrentUseLand                                                    N  \n",
       "AFNonProfitUse                                                      N  \n",
       "AFHistoricProperty                                                  N  \n",
       "SaleReason                                                          1  \n",
       "PropertyClass                                                       9  \n",
       "SaleWarning                                                        49  "
      ]
     },
     "execution_count": 5,
     "metadata": {},
     "output_type": "execute_result"
    }
   ],
   "source": [
    "sales_df.head().T"
   ]
  },
  {
   "cell_type": "markdown",
   "metadata": {},
   "source": [
    "### Data overload?\n",
    "\n",
    "That's a lot of columns. We're only interested in identifying the date, sale price, and square footage of each specific property. What can we do?"
   ]
  },
  {
   "cell_type": "code",
   "execution_count": 6,
   "metadata": {},
   "outputs": [],
   "source": [
    "sales_df = sales_df[['Major', 'Minor', 'DocumentDate', 'SalePrice']]"
   ]
  },
  {
   "cell_type": "code",
   "execution_count": 7,
   "metadata": {},
   "outputs": [
    {
     "name": "stdout",
     "output_type": "stream",
     "text": [
      "<class 'pandas.core.frame.DataFrame'>\n",
      "RangeIndex: 2014336 entries, 0 to 2014335\n",
      "Data columns (total 4 columns):\n",
      "Major           object\n",
      "Minor           object\n",
      "DocumentDate    object\n",
      "SalePrice       int64\n",
      "dtypes: int64(1), object(3)\n",
      "memory usage: 61.5+ MB\n"
     ]
    }
   ],
   "source": [
    "sales_df.info()"
   ]
  },
  {
   "cell_type": "code",
   "execution_count": 8,
   "metadata": {},
   "outputs": [],
   "source": [
    "import pandas as pd\n",
    "import numpy as np\n",
    "import warnings\n",
    "np.seterr(all='warn')\n",
    "warnings.simplefilter(\"always\")"
   ]
  },
  {
   "cell_type": "code",
   "execution_count": 9,
   "metadata": {
    "scrolled": false
   },
   "outputs": [
    {
     "name": "stderr",
     "output_type": "stream",
     "text": [
      "/Users/krex/anaconda3/lib/python3.7/site-packages/IPython/core/interactiveshell.py:3020: DtypeWarning: Columns (11) have mixed types. Specify dtype option on import or set low_memory=False.\n",
      "  interactivity=interactivity, compiler=compiler, result=result)\n"
     ]
    }
   ],
   "source": [
    "bldg_df = pd.read_csv('data/Residential Building.zip')"
   ]
  },
  {
   "cell_type": "markdown",
   "metadata": {},
   "source": [
    "### Another warning! Which column has index 11?"
   ]
  },
  {
   "cell_type": "code",
   "execution_count": 10,
   "metadata": {},
   "outputs": [
    {
     "data": {
      "text/plain": [
       "'ZipCode'"
      ]
     },
     "execution_count": 10,
     "metadata": {},
     "output_type": "execute_result"
    }
   ],
   "source": [
    "bldg_df.columns[11]"
   ]
  },
  {
   "cell_type": "markdown",
   "metadata": {},
   "source": [
    "`ZipCode` seems like a potentially useful column. We'll need it to determine which house sales took place in Seattle."
   ]
  },
  {
   "cell_type": "code",
   "execution_count": 11,
   "metadata": {
    "scrolled": true
   },
   "outputs": [
    {
     "data": {
      "text/html": [
       "<div>\n",
       "<style scoped>\n",
       "    .dataframe tbody tr th:only-of-type {\n",
       "        vertical-align: middle;\n",
       "    }\n",
       "\n",
       "    .dataframe tbody tr th {\n",
       "        vertical-align: top;\n",
       "    }\n",
       "\n",
       "    .dataframe thead th {\n",
       "        text-align: right;\n",
       "    }\n",
       "</style>\n",
       "<table border=\"1\" class=\"dataframe\">\n",
       "  <thead>\n",
       "    <tr style=\"text-align: right;\">\n",
       "      <th></th>\n",
       "      <th>0</th>\n",
       "      <th>1</th>\n",
       "      <th>2</th>\n",
       "      <th>3</th>\n",
       "      <th>4</th>\n",
       "    </tr>\n",
       "  </thead>\n",
       "  <tbody>\n",
       "    <tr>\n",
       "      <th>Major</th>\n",
       "      <td>4300</td>\n",
       "      <td>4610</td>\n",
       "      <td>4610</td>\n",
       "      <td>4610</td>\n",
       "      <td>4900</td>\n",
       "    </tr>\n",
       "    <tr>\n",
       "      <th>Minor</th>\n",
       "      <td>167</td>\n",
       "      <td>399</td>\n",
       "      <td>503</td>\n",
       "      <td>505</td>\n",
       "      <td>56</td>\n",
       "    </tr>\n",
       "    <tr>\n",
       "      <th>BldgNbr</th>\n",
       "      <td>1</td>\n",
       "      <td>1</td>\n",
       "      <td>1</td>\n",
       "      <td>1</td>\n",
       "      <td>1</td>\n",
       "    </tr>\n",
       "    <tr>\n",
       "      <th>NbrLivingUnits</th>\n",
       "      <td>1</td>\n",
       "      <td>1</td>\n",
       "      <td>1</td>\n",
       "      <td>1</td>\n",
       "      <td>1</td>\n",
       "    </tr>\n",
       "    <tr>\n",
       "      <th>Address</th>\n",
       "      <td>15223   40TH AVE S  98188</td>\n",
       "      <td>4431   FERNCROFT RD   98040</td>\n",
       "      <td>4516   FERNCROFT RD   98040</td>\n",
       "      <td>4538   FERNCROFT RD   98040</td>\n",
       "      <td>3015  SW 105TH ST   98146</td>\n",
       "    </tr>\n",
       "    <tr>\n",
       "      <th>BuildingNumber</th>\n",
       "      <td>15223</td>\n",
       "      <td>4431</td>\n",
       "      <td>4516</td>\n",
       "      <td>4538</td>\n",
       "      <td>3015</td>\n",
       "    </tr>\n",
       "    <tr>\n",
       "      <th>Fraction</th>\n",
       "      <td></td>\n",
       "      <td></td>\n",
       "      <td></td>\n",
       "      <td></td>\n",
       "      <td></td>\n",
       "    </tr>\n",
       "    <tr>\n",
       "      <th>DirectionPrefix</th>\n",
       "      <td></td>\n",
       "      <td></td>\n",
       "      <td></td>\n",
       "      <td></td>\n",
       "      <td>SW</td>\n",
       "    </tr>\n",
       "    <tr>\n",
       "      <th>StreetName</th>\n",
       "      <td>40TH</td>\n",
       "      <td>FERNCROFT</td>\n",
       "      <td>FERNCROFT</td>\n",
       "      <td>FERNCROFT</td>\n",
       "      <td>105TH</td>\n",
       "    </tr>\n",
       "    <tr>\n",
       "      <th>StreetType</th>\n",
       "      <td>AVE</td>\n",
       "      <td>RD</td>\n",
       "      <td>RD</td>\n",
       "      <td>RD</td>\n",
       "      <td>ST</td>\n",
       "    </tr>\n",
       "    <tr>\n",
       "      <th>DirectionSuffix</th>\n",
       "      <td>S</td>\n",
       "      <td></td>\n",
       "      <td></td>\n",
       "      <td></td>\n",
       "      <td></td>\n",
       "    </tr>\n",
       "    <tr>\n",
       "      <th>ZipCode</th>\n",
       "      <td>98188</td>\n",
       "      <td>98040</td>\n",
       "      <td>98040</td>\n",
       "      <td>98040</td>\n",
       "      <td>98146</td>\n",
       "    </tr>\n",
       "    <tr>\n",
       "      <th>Stories</th>\n",
       "      <td>1</td>\n",
       "      <td>2</td>\n",
       "      <td>2</td>\n",
       "      <td>2</td>\n",
       "      <td>1</td>\n",
       "    </tr>\n",
       "    <tr>\n",
       "      <th>BldgGrade</th>\n",
       "      <td>6</td>\n",
       "      <td>9</td>\n",
       "      <td>9</td>\n",
       "      <td>11</td>\n",
       "      <td>7</td>\n",
       "    </tr>\n",
       "    <tr>\n",
       "      <th>BldgGradeVar</th>\n",
       "      <td>0</td>\n",
       "      <td>0</td>\n",
       "      <td>0</td>\n",
       "      <td>0</td>\n",
       "      <td>0</td>\n",
       "    </tr>\n",
       "    <tr>\n",
       "      <th>SqFt1stFloor</th>\n",
       "      <td>990</td>\n",
       "      <td>980</td>\n",
       "      <td>1916</td>\n",
       "      <td>2250</td>\n",
       "      <td>1040</td>\n",
       "    </tr>\n",
       "    <tr>\n",
       "      <th>SqFtHalfFloor</th>\n",
       "      <td>0</td>\n",
       "      <td>0</td>\n",
       "      <td>0</td>\n",
       "      <td>0</td>\n",
       "      <td>0</td>\n",
       "    </tr>\n",
       "    <tr>\n",
       "      <th>SqFt2ndFloor</th>\n",
       "      <td>0</td>\n",
       "      <td>1140</td>\n",
       "      <td>1473</td>\n",
       "      <td>1850</td>\n",
       "      <td>0</td>\n",
       "    </tr>\n",
       "    <tr>\n",
       "      <th>SqFtUpperFloor</th>\n",
       "      <td>0</td>\n",
       "      <td>0</td>\n",
       "      <td>0</td>\n",
       "      <td>0</td>\n",
       "      <td>0</td>\n",
       "    </tr>\n",
       "    <tr>\n",
       "      <th>SqFtUnfinFull</th>\n",
       "      <td>0</td>\n",
       "      <td>0</td>\n",
       "      <td>0</td>\n",
       "      <td>0</td>\n",
       "      <td>0</td>\n",
       "    </tr>\n",
       "    <tr>\n",
       "      <th>SqFtUnfinHalf</th>\n",
       "      <td>0</td>\n",
       "      <td>0</td>\n",
       "      <td>0</td>\n",
       "      <td>0</td>\n",
       "      <td>0</td>\n",
       "    </tr>\n",
       "    <tr>\n",
       "      <th>SqFtTotLiving</th>\n",
       "      <td>990</td>\n",
       "      <td>2950</td>\n",
       "      <td>3389</td>\n",
       "      <td>4100</td>\n",
       "      <td>1570</td>\n",
       "    </tr>\n",
       "    <tr>\n",
       "      <th>SqFtTotBasement</th>\n",
       "      <td>990</td>\n",
       "      <td>940</td>\n",
       "      <td>0</td>\n",
       "      <td>0</td>\n",
       "      <td>1040</td>\n",
       "    </tr>\n",
       "    <tr>\n",
       "      <th>SqFtFinBasement</th>\n",
       "      <td>0</td>\n",
       "      <td>830</td>\n",
       "      <td>0</td>\n",
       "      <td>0</td>\n",
       "      <td>530</td>\n",
       "    </tr>\n",
       "    <tr>\n",
       "      <th>FinBasementGrade</th>\n",
       "      <td>0</td>\n",
       "      <td>9</td>\n",
       "      <td>0</td>\n",
       "      <td>0</td>\n",
       "      <td>7</td>\n",
       "    </tr>\n",
       "    <tr>\n",
       "      <th>SqFtGarageBasement</th>\n",
       "      <td>0</td>\n",
       "      <td>0</td>\n",
       "      <td>0</td>\n",
       "      <td>0</td>\n",
       "      <td>430</td>\n",
       "    </tr>\n",
       "    <tr>\n",
       "      <th>SqFtGarageAttached</th>\n",
       "      <td>0</td>\n",
       "      <td>480</td>\n",
       "      <td>552</td>\n",
       "      <td>690</td>\n",
       "      <td>0</td>\n",
       "    </tr>\n",
       "    <tr>\n",
       "      <th>DaylightBasement</th>\n",
       "      <td></td>\n",
       "      <td>Y</td>\n",
       "      <td>N</td>\n",
       "      <td>N</td>\n",
       "      <td></td>\n",
       "    </tr>\n",
       "    <tr>\n",
       "      <th>SqFtOpenPorch</th>\n",
       "      <td>80</td>\n",
       "      <td>0</td>\n",
       "      <td>336</td>\n",
       "      <td>120</td>\n",
       "      <td>0</td>\n",
       "    </tr>\n",
       "    <tr>\n",
       "      <th>SqFtEnclosedPorch</th>\n",
       "      <td>0</td>\n",
       "      <td>0</td>\n",
       "      <td>192</td>\n",
       "      <td>0</td>\n",
       "      <td>0</td>\n",
       "    </tr>\n",
       "    <tr>\n",
       "      <th>SqFtDeck</th>\n",
       "      <td>0</td>\n",
       "      <td>600</td>\n",
       "      <td>1028</td>\n",
       "      <td>980</td>\n",
       "      <td>100</td>\n",
       "    </tr>\n",
       "    <tr>\n",
       "      <th>HeatSystem</th>\n",
       "      <td>6</td>\n",
       "      <td>5</td>\n",
       "      <td>5</td>\n",
       "      <td>5</td>\n",
       "      <td>5</td>\n",
       "    </tr>\n",
       "    <tr>\n",
       "      <th>HeatSource</th>\n",
       "      <td>1</td>\n",
       "      <td>2</td>\n",
       "      <td>2</td>\n",
       "      <td>2</td>\n",
       "      <td>1</td>\n",
       "    </tr>\n",
       "    <tr>\n",
       "      <th>BrickStone</th>\n",
       "      <td>0</td>\n",
       "      <td>0</td>\n",
       "      <td>0</td>\n",
       "      <td>0</td>\n",
       "      <td>0</td>\n",
       "    </tr>\n",
       "    <tr>\n",
       "      <th>ViewUtilization</th>\n",
       "      <td></td>\n",
       "      <td>N</td>\n",
       "      <td>N</td>\n",
       "      <td>N</td>\n",
       "      <td></td>\n",
       "    </tr>\n",
       "    <tr>\n",
       "      <th>Bedrooms</th>\n",
       "      <td>2</td>\n",
       "      <td>3</td>\n",
       "      <td>3</td>\n",
       "      <td>5</td>\n",
       "      <td>3</td>\n",
       "    </tr>\n",
       "    <tr>\n",
       "      <th>BathHalfCount</th>\n",
       "      <td>0</td>\n",
       "      <td>1</td>\n",
       "      <td>1</td>\n",
       "      <td>1</td>\n",
       "      <td>0</td>\n",
       "    </tr>\n",
       "    <tr>\n",
       "      <th>Bath3qtrCount</th>\n",
       "      <td>0</td>\n",
       "      <td>0</td>\n",
       "      <td>1</td>\n",
       "      <td>0</td>\n",
       "      <td>0</td>\n",
       "    </tr>\n",
       "    <tr>\n",
       "      <th>BathFullCount</th>\n",
       "      <td>1</td>\n",
       "      <td>2</td>\n",
       "      <td>1</td>\n",
       "      <td>3</td>\n",
       "      <td>1</td>\n",
       "    </tr>\n",
       "    <tr>\n",
       "      <th>FpSingleStory</th>\n",
       "      <td>0</td>\n",
       "      <td>0</td>\n",
       "      <td>0</td>\n",
       "      <td>0</td>\n",
       "      <td>0</td>\n",
       "    </tr>\n",
       "    <tr>\n",
       "      <th>FpMultiStory</th>\n",
       "      <td>0</td>\n",
       "      <td>0</td>\n",
       "      <td>2</td>\n",
       "      <td>2</td>\n",
       "      <td>1</td>\n",
       "    </tr>\n",
       "    <tr>\n",
       "      <th>FpFreestanding</th>\n",
       "      <td>0</td>\n",
       "      <td>2</td>\n",
       "      <td>0</td>\n",
       "      <td>0</td>\n",
       "      <td>0</td>\n",
       "    </tr>\n",
       "    <tr>\n",
       "      <th>FpAdditional</th>\n",
       "      <td>0</td>\n",
       "      <td>0</td>\n",
       "      <td>0</td>\n",
       "      <td>1</td>\n",
       "      <td>1</td>\n",
       "    </tr>\n",
       "    <tr>\n",
       "      <th>YrBuilt</th>\n",
       "      <td>1922</td>\n",
       "      <td>1978</td>\n",
       "      <td>1970</td>\n",
       "      <td>1989</td>\n",
       "      <td>1967</td>\n",
       "    </tr>\n",
       "    <tr>\n",
       "      <th>YrRenovated</th>\n",
       "      <td>0</td>\n",
       "      <td>0</td>\n",
       "      <td>0</td>\n",
       "      <td>0</td>\n",
       "      <td>0</td>\n",
       "    </tr>\n",
       "    <tr>\n",
       "      <th>PcntComplete</th>\n",
       "      <td>0</td>\n",
       "      <td>0</td>\n",
       "      <td>0</td>\n",
       "      <td>0</td>\n",
       "      <td>0</td>\n",
       "    </tr>\n",
       "    <tr>\n",
       "      <th>Obsolescence</th>\n",
       "      <td>0</td>\n",
       "      <td>0</td>\n",
       "      <td>0</td>\n",
       "      <td>0</td>\n",
       "      <td>0</td>\n",
       "    </tr>\n",
       "    <tr>\n",
       "      <th>PcntNetCondition</th>\n",
       "      <td>0</td>\n",
       "      <td>0</td>\n",
       "      <td>0</td>\n",
       "      <td>0</td>\n",
       "      <td>0</td>\n",
       "    </tr>\n",
       "    <tr>\n",
       "      <th>Condition</th>\n",
       "      <td>3</td>\n",
       "      <td>4</td>\n",
       "      <td>4</td>\n",
       "      <td>3</td>\n",
       "      <td>3</td>\n",
       "    </tr>\n",
       "    <tr>\n",
       "      <th>AddnlCost</th>\n",
       "      <td>0</td>\n",
       "      <td>0</td>\n",
       "      <td>0</td>\n",
       "      <td>20000</td>\n",
       "      <td>0</td>\n",
       "    </tr>\n",
       "  </tbody>\n",
       "</table>\n",
       "</div>"
      ],
      "text/plain": [
       "                                            0                            1  \\\n",
       "Major                                    4300                         4610   \n",
       "Minor                                     167                          399   \n",
       "BldgNbr                                     1                            1   \n",
       "NbrLivingUnits                              1                            1   \n",
       "Address             15223   40TH AVE S  98188  4431   FERNCROFT RD   98040   \n",
       "BuildingNumber                          15223                        4431    \n",
       "Fraction                                                                     \n",
       "DirectionPrefix                                                              \n",
       "StreetName          40TH                         FERNCROFT                   \n",
       "StreetType                             AVE                          RD       \n",
       "DirectionSuffix                            S                                 \n",
       "ZipCode                                 98188                        98040   \n",
       "Stories                                     1                            2   \n",
       "BldgGrade                                   6                            9   \n",
       "BldgGradeVar                                0                            0   \n",
       "SqFt1stFloor                              990                          980   \n",
       "SqFtHalfFloor                               0                            0   \n",
       "SqFt2ndFloor                                0                         1140   \n",
       "SqFtUpperFloor                              0                            0   \n",
       "SqFtUnfinFull                               0                            0   \n",
       "SqFtUnfinHalf                               0                            0   \n",
       "SqFtTotLiving                             990                         2950   \n",
       "SqFtTotBasement                           990                          940   \n",
       "SqFtFinBasement                             0                          830   \n",
       "FinBasementGrade                            0                            9   \n",
       "SqFtGarageBasement                          0                            0   \n",
       "SqFtGarageAttached                          0                          480   \n",
       "DaylightBasement                                                         Y   \n",
       "SqFtOpenPorch                              80                            0   \n",
       "SqFtEnclosedPorch                           0                            0   \n",
       "SqFtDeck                                    0                          600   \n",
       "HeatSystem                                  6                            5   \n",
       "HeatSource                                  1                            2   \n",
       "BrickStone                                  0                            0   \n",
       "ViewUtilization                                                          N   \n",
       "Bedrooms                                    2                            3   \n",
       "BathHalfCount                               0                            1   \n",
       "Bath3qtrCount                               0                            0   \n",
       "BathFullCount                               1                            2   \n",
       "FpSingleStory                               0                            0   \n",
       "FpMultiStory                                0                            0   \n",
       "FpFreestanding                              0                            2   \n",
       "FpAdditional                                0                            0   \n",
       "YrBuilt                                  1922                         1978   \n",
       "YrRenovated                                 0                            0   \n",
       "PcntComplete                                0                            0   \n",
       "Obsolescence                                0                            0   \n",
       "PcntNetCondition                            0                            0   \n",
       "Condition                                   3                            4   \n",
       "AddnlCost                                   0                            0   \n",
       "\n",
       "                                              2                            3  \\\n",
       "Major                                      4610                         4610   \n",
       "Minor                                       503                          505   \n",
       "BldgNbr                                       1                            1   \n",
       "NbrLivingUnits                                1                            1   \n",
       "Address             4516   FERNCROFT RD   98040  4538   FERNCROFT RD   98040   \n",
       "BuildingNumber                            4516                         4538    \n",
       "Fraction                                                                       \n",
       "DirectionPrefix                                                                \n",
       "StreetName            FERNCROFT                    FERNCROFT                   \n",
       "StreetType                               RD                           RD       \n",
       "DirectionSuffix                                                                \n",
       "ZipCode                                   98040                        98040   \n",
       "Stories                                       2                            2   \n",
       "BldgGrade                                     9                           11   \n",
       "BldgGradeVar                                  0                            0   \n",
       "SqFt1stFloor                               1916                         2250   \n",
       "SqFtHalfFloor                                 0                            0   \n",
       "SqFt2ndFloor                               1473                         1850   \n",
       "SqFtUpperFloor                                0                            0   \n",
       "SqFtUnfinFull                                 0                            0   \n",
       "SqFtUnfinHalf                                 0                            0   \n",
       "SqFtTotLiving                              3389                         4100   \n",
       "SqFtTotBasement                               0                            0   \n",
       "SqFtFinBasement                               0                            0   \n",
       "FinBasementGrade                              0                            0   \n",
       "SqFtGarageBasement                            0                            0   \n",
       "SqFtGarageAttached                          552                          690   \n",
       "DaylightBasement                              N                            N   \n",
       "SqFtOpenPorch                               336                          120   \n",
       "SqFtEnclosedPorch                           192                            0   \n",
       "SqFtDeck                                   1028                          980   \n",
       "HeatSystem                                    5                            5   \n",
       "HeatSource                                    2                            2   \n",
       "BrickStone                                    0                            0   \n",
       "ViewUtilization                               N                            N   \n",
       "Bedrooms                                      3                            5   \n",
       "BathHalfCount                                 1                            1   \n",
       "Bath3qtrCount                                 1                            0   \n",
       "BathFullCount                                 1                            3   \n",
       "FpSingleStory                                 0                            0   \n",
       "FpMultiStory                                  2                            2   \n",
       "FpFreestanding                                0                            0   \n",
       "FpAdditional                                  0                            1   \n",
       "YrBuilt                                    1970                         1989   \n",
       "YrRenovated                                   0                            0   \n",
       "PcntComplete                                  0                            0   \n",
       "Obsolescence                                  0                            0   \n",
       "PcntNetCondition                              0                            0   \n",
       "Condition                                     4                            3   \n",
       "AddnlCost                                     0                        20000   \n",
       "\n",
       "                                            4  \n",
       "Major                                    4900  \n",
       "Minor                                      56  \n",
       "BldgNbr                                     1  \n",
       "NbrLivingUnits                              1  \n",
       "Address             3015  SW 105TH ST   98146  \n",
       "BuildingNumber                          3015   \n",
       "Fraction                                       \n",
       "DirectionPrefix                            SW  \n",
       "StreetName          105TH                      \n",
       "StreetType                             ST      \n",
       "DirectionSuffix                                \n",
       "ZipCode                                 98146  \n",
       "Stories                                     1  \n",
       "BldgGrade                                   7  \n",
       "BldgGradeVar                                0  \n",
       "SqFt1stFloor                             1040  \n",
       "SqFtHalfFloor                               0  \n",
       "SqFt2ndFloor                                0  \n",
       "SqFtUpperFloor                              0  \n",
       "SqFtUnfinFull                               0  \n",
       "SqFtUnfinHalf                               0  \n",
       "SqFtTotLiving                            1570  \n",
       "SqFtTotBasement                          1040  \n",
       "SqFtFinBasement                           530  \n",
       "FinBasementGrade                            7  \n",
       "SqFtGarageBasement                        430  \n",
       "SqFtGarageAttached                          0  \n",
       "DaylightBasement                               \n",
       "SqFtOpenPorch                               0  \n",
       "SqFtEnclosedPorch                           0  \n",
       "SqFtDeck                                  100  \n",
       "HeatSystem                                  5  \n",
       "HeatSource                                  1  \n",
       "BrickStone                                  0  \n",
       "ViewUtilization                                \n",
       "Bedrooms                                    3  \n",
       "BathHalfCount                               0  \n",
       "Bath3qtrCount                               0  \n",
       "BathFullCount                               1  \n",
       "FpSingleStory                               0  \n",
       "FpMultiStory                                1  \n",
       "FpFreestanding                              0  \n",
       "FpAdditional                                1  \n",
       "YrBuilt                                  1967  \n",
       "YrRenovated                                 0  \n",
       "PcntComplete                                0  \n",
       "Obsolescence                                0  \n",
       "PcntNetCondition                            0  \n",
       "Condition                                   3  \n",
       "AddnlCost                                   0  "
      ]
     },
     "execution_count": 11,
     "metadata": {},
     "output_type": "execute_result"
    }
   ],
   "source": [
    "bldg_df.head().T"
   ]
  },
  {
   "cell_type": "markdown",
   "metadata": {},
   "source": [
    "### So many features!\n",
    "\n",
    "As data scientists, we should be _very_ cautious about discarding potentially useful data. But, today, we're interested in _only_ the total square footage of each property. What can we do?\n"
   ]
  },
  {
   "cell_type": "code",
   "execution_count": 12,
   "metadata": {},
   "outputs": [],
   "source": [
    "bldg_df = bldg_df[['Major', 'Minor', 'SqFtTotLiving', 'ZipCode']]"
   ]
  },
  {
   "cell_type": "code",
   "execution_count": 13,
   "metadata": {
    "scrolled": true
   },
   "outputs": [
    {
     "name": "stdout",
     "output_type": "stream",
     "text": [
      "<class 'pandas.core.frame.DataFrame'>\n",
      "RangeIndex: 511412 entries, 0 to 511411\n",
      "Data columns (total 4 columns):\n",
      "Major            511412 non-null int64\n",
      "Minor            511412 non-null int64\n",
      "SqFtTotLiving    511412 non-null int64\n",
      "ZipCode          468372 non-null object\n",
      "dtypes: int64(3), object(1)\n",
      "memory usage: 15.6+ MB\n"
     ]
    }
   ],
   "source": [
    "bldg_df.info()"
   ]
  },
  {
   "cell_type": "code",
   "execution_count": 14,
   "metadata": {},
   "outputs": [
    {
     "ename": "ValueError",
     "evalue": "You are trying to merge on object and int64 columns. If you wish to proceed you should use pd.concat",
     "output_type": "error",
     "traceback": [
      "\u001b[0;31m---------------------------------------------------------------------------\u001b[0m",
      "\u001b[0;31mValueError\u001b[0m                                Traceback (most recent call last)",
      "\u001b[0;32m<ipython-input-14-764b2d8a2609>\u001b[0m in \u001b[0;36m<module>\u001b[0;34m\u001b[0m\n\u001b[0;32m----> 1\u001b[0;31m \u001b[0msales_data\u001b[0m \u001b[0;34m=\u001b[0m \u001b[0mpd\u001b[0m\u001b[0;34m.\u001b[0m\u001b[0mmerge\u001b[0m\u001b[0;34m(\u001b[0m\u001b[0msales_df\u001b[0m\u001b[0;34m,\u001b[0m \u001b[0mbldg_df\u001b[0m\u001b[0;34m,\u001b[0m \u001b[0mon\u001b[0m\u001b[0;34m=\u001b[0m\u001b[0;34m[\u001b[0m\u001b[0;34m'Major'\u001b[0m\u001b[0;34m,\u001b[0m \u001b[0;34m'Minor'\u001b[0m\u001b[0;34m]\u001b[0m\u001b[0;34m)\u001b[0m\u001b[0;34m\u001b[0m\u001b[0;34m\u001b[0m\u001b[0m\n\u001b[0m",
      "\u001b[0;32m~/anaconda3/lib/python3.7/site-packages/pandas/core/reshape/merge.py\u001b[0m in \u001b[0;36mmerge\u001b[0;34m(left, right, how, on, left_on, right_on, left_index, right_index, sort, suffixes, copy, indicator, validate)\u001b[0m\n\u001b[1;32m     59\u001b[0m                          \u001b[0mright_index\u001b[0m\u001b[0;34m=\u001b[0m\u001b[0mright_index\u001b[0m\u001b[0;34m,\u001b[0m \u001b[0msort\u001b[0m\u001b[0;34m=\u001b[0m\u001b[0msort\u001b[0m\u001b[0;34m,\u001b[0m \u001b[0msuffixes\u001b[0m\u001b[0;34m=\u001b[0m\u001b[0msuffixes\u001b[0m\u001b[0;34m,\u001b[0m\u001b[0;34m\u001b[0m\u001b[0;34m\u001b[0m\u001b[0m\n\u001b[1;32m     60\u001b[0m                          \u001b[0mcopy\u001b[0m\u001b[0;34m=\u001b[0m\u001b[0mcopy\u001b[0m\u001b[0;34m,\u001b[0m \u001b[0mindicator\u001b[0m\u001b[0;34m=\u001b[0m\u001b[0mindicator\u001b[0m\u001b[0;34m,\u001b[0m\u001b[0;34m\u001b[0m\u001b[0;34m\u001b[0m\u001b[0m\n\u001b[0;32m---> 61\u001b[0;31m                          validate=validate)\n\u001b[0m\u001b[1;32m     62\u001b[0m     \u001b[0;32mreturn\u001b[0m \u001b[0mop\u001b[0m\u001b[0;34m.\u001b[0m\u001b[0mget_result\u001b[0m\u001b[0;34m(\u001b[0m\u001b[0;34m)\u001b[0m\u001b[0;34m\u001b[0m\u001b[0;34m\u001b[0m\u001b[0m\n\u001b[1;32m     63\u001b[0m \u001b[0;34m\u001b[0m\u001b[0m\n",
      "\u001b[0;32m~/anaconda3/lib/python3.7/site-packages/pandas/core/reshape/merge.py\u001b[0m in \u001b[0;36m__init__\u001b[0;34m(self, left, right, how, on, left_on, right_on, axis, left_index, right_index, sort, suffixes, copy, indicator, validate)\u001b[0m\n\u001b[1;32m    553\u001b[0m         \u001b[0;31m# validate the merge keys dtypes. We may need to coerce\u001b[0m\u001b[0;34m\u001b[0m\u001b[0;34m\u001b[0m\u001b[0;34m\u001b[0m\u001b[0m\n\u001b[1;32m    554\u001b[0m         \u001b[0;31m# to avoid incompat dtypes\u001b[0m\u001b[0;34m\u001b[0m\u001b[0;34m\u001b[0m\u001b[0;34m\u001b[0m\u001b[0m\n\u001b[0;32m--> 555\u001b[0;31m         \u001b[0mself\u001b[0m\u001b[0;34m.\u001b[0m\u001b[0m_maybe_coerce_merge_keys\u001b[0m\u001b[0;34m(\u001b[0m\u001b[0;34m)\u001b[0m\u001b[0;34m\u001b[0m\u001b[0;34m\u001b[0m\u001b[0m\n\u001b[0m\u001b[1;32m    556\u001b[0m \u001b[0;34m\u001b[0m\u001b[0m\n\u001b[1;32m    557\u001b[0m         \u001b[0;31m# If argument passed to validate,\u001b[0m\u001b[0;34m\u001b[0m\u001b[0;34m\u001b[0m\u001b[0;34m\u001b[0m\u001b[0m\n",
      "\u001b[0;32m~/anaconda3/lib/python3.7/site-packages/pandas/core/reshape/merge.py\u001b[0m in \u001b[0;36m_maybe_coerce_merge_keys\u001b[0;34m(self)\u001b[0m\n\u001b[1;32m    984\u001b[0m             elif (not is_numeric_dtype(lk)\n\u001b[1;32m    985\u001b[0m                     and (is_numeric_dtype(rk) and not is_bool_dtype(rk))):\n\u001b[0;32m--> 986\u001b[0;31m                 \u001b[0;32mraise\u001b[0m \u001b[0mValueError\u001b[0m\u001b[0;34m(\u001b[0m\u001b[0mmsg\u001b[0m\u001b[0;34m)\u001b[0m\u001b[0;34m\u001b[0m\u001b[0;34m\u001b[0m\u001b[0m\n\u001b[0m\u001b[1;32m    987\u001b[0m             \u001b[0;32melif\u001b[0m \u001b[0mis_datetimelike\u001b[0m\u001b[0;34m(\u001b[0m\u001b[0mlk\u001b[0m\u001b[0;34m)\u001b[0m \u001b[0;32mand\u001b[0m \u001b[0;32mnot\u001b[0m \u001b[0mis_datetimelike\u001b[0m\u001b[0;34m(\u001b[0m\u001b[0mrk\u001b[0m\u001b[0;34m)\u001b[0m\u001b[0;34m:\u001b[0m\u001b[0;34m\u001b[0m\u001b[0;34m\u001b[0m\u001b[0m\n\u001b[1;32m    988\u001b[0m                 \u001b[0;32mraise\u001b[0m \u001b[0mValueError\u001b[0m\u001b[0;34m(\u001b[0m\u001b[0mmsg\u001b[0m\u001b[0;34m)\u001b[0m\u001b[0;34m\u001b[0m\u001b[0;34m\u001b[0m\u001b[0m\n",
      "\u001b[0;31mValueError\u001b[0m: You are trying to merge on object and int64 columns. If you wish to proceed you should use pd.concat"
     ]
    }
   ],
   "source": [
    "sales_data = pd.merge(sales_df, bldg_df, on=['Major', 'Minor'])"
   ]
  },
  {
   "cell_type": "markdown",
   "metadata": {},
   "source": [
    "### Error!\n",
    "\n",
    "Why are we seeing an error when we try to join the dataframes?\n",
    "\n",
    "<table>\n",
    "    <tr>\n",
    "        <td style=\"text-align:left\"><pre>\n",
    "<class 'pandas.core.frame.DataFrame'>\n",
    "RangeIndex: 2013160 entries, 0 to 2013159\n",
    "Data columns (total 4 columns):\n",
    "Major           object\n",
    "Minor           object\n",
    "DocumentDate    object\n",
    "SalePrice       int64\n",
    "dtypes: int64(1), object(3)\n",
    "memory usage: 61.4+ MB</pre></td>\n",
    "        <td style=\"text-align:left\"><pre>\n",
    "<class 'pandas.core.frame.DataFrame'>\n",
    "RangeIndex: 511359 entries, 0 to 511358\n",
    "Data columns (total 4 columns):\n",
    "Major            511359 non-null int64\n",
    "Minor            511359 non-null int64\n",
    "SqFtTotLiving    511359 non-null int64\n",
    "ZipCode          468345 non-null object\n",
    "dtypes: int64(3), object(1)\n",
    "memory usage: 15.6+ MB\n",
    "</pre></td>\n",
    "    </tr>\n",
    "</table>\n",
    "\n",
    "Review the error message in light of the above:\n",
    "\n",
    "* `ValueError: You are trying to merge on object and int64 columns.`"
   ]
  },
  {
   "cell_type": "code",
   "execution_count": 15,
   "metadata": {},
   "outputs": [
    {
     "ename": "ValueError",
     "evalue": "Unable to parse string \"      \" at position 935519",
     "output_type": "error",
     "traceback": [
      "\u001b[0;31m---------------------------------------------------------------------------\u001b[0m",
      "\u001b[0;31mValueError\u001b[0m                                Traceback (most recent call last)",
      "\u001b[0;32mpandas/_libs/src/inference.pyx\u001b[0m in \u001b[0;36mpandas._libs.lib.maybe_convert_numeric\u001b[0;34m()\u001b[0m\n",
      "\u001b[0;31mValueError\u001b[0m: Unable to parse string \"      \"",
      "\nDuring handling of the above exception, another exception occurred:\n",
      "\u001b[0;31mValueError\u001b[0m                                Traceback (most recent call last)",
      "\u001b[0;32m<ipython-input-15-a99a999cbad4>\u001b[0m in \u001b[0;36m<module>\u001b[0;34m\u001b[0m\n\u001b[0;32m----> 1\u001b[0;31m \u001b[0msales_df\u001b[0m\u001b[0;34m[\u001b[0m\u001b[0;34m'Major'\u001b[0m\u001b[0;34m]\u001b[0m \u001b[0;34m=\u001b[0m \u001b[0mpd\u001b[0m\u001b[0;34m.\u001b[0m\u001b[0mto_numeric\u001b[0m\u001b[0;34m(\u001b[0m\u001b[0msales_df\u001b[0m\u001b[0;34m[\u001b[0m\u001b[0;34m'Major'\u001b[0m\u001b[0;34m]\u001b[0m\u001b[0;34m)\u001b[0m\u001b[0;34m\u001b[0m\u001b[0;34m\u001b[0m\u001b[0m\n\u001b[0m",
      "\u001b[0;32m~/anaconda3/lib/python3.7/site-packages/pandas/core/tools/numeric.py\u001b[0m in \u001b[0;36mto_numeric\u001b[0;34m(arg, errors, downcast)\u001b[0m\n\u001b[1;32m    131\u001b[0m             \u001b[0mcoerce_numeric\u001b[0m \u001b[0;34m=\u001b[0m \u001b[0;32mFalse\u001b[0m \u001b[0;32mif\u001b[0m \u001b[0merrors\u001b[0m \u001b[0;32min\u001b[0m \u001b[0;34m(\u001b[0m\u001b[0;34m'ignore'\u001b[0m\u001b[0;34m,\u001b[0m \u001b[0;34m'raise'\u001b[0m\u001b[0;34m)\u001b[0m \u001b[0;32melse\u001b[0m \u001b[0;32mTrue\u001b[0m\u001b[0;34m\u001b[0m\u001b[0;34m\u001b[0m\u001b[0m\n\u001b[1;32m    132\u001b[0m             values = lib.maybe_convert_numeric(values, set(),\n\u001b[0;32m--> 133\u001b[0;31m                                                coerce_numeric=coerce_numeric)\n\u001b[0m\u001b[1;32m    134\u001b[0m \u001b[0;34m\u001b[0m\u001b[0m\n\u001b[1;32m    135\u001b[0m     \u001b[0;32mexcept\u001b[0m \u001b[0mException\u001b[0m\u001b[0;34m:\u001b[0m\u001b[0;34m\u001b[0m\u001b[0;34m\u001b[0m\u001b[0m\n",
      "\u001b[0;32mpandas/_libs/src/inference.pyx\u001b[0m in \u001b[0;36mpandas._libs.lib.maybe_convert_numeric\u001b[0;34m()\u001b[0m\n",
      "\u001b[0;31mValueError\u001b[0m: Unable to parse string \"      \" at position 935519"
     ]
    }
   ],
   "source": [
    "sales_df['Major'] = pd.to_numeric(sales_df['Major'])"
   ]
  },
  {
   "cell_type": "markdown",
   "metadata": {},
   "source": [
    "### Error!\n",
    "\n",
    "Note the useful error message above:\n",
    "\n",
    "`ValueError: Unable to parse string \"      \" at position 936643`\n",
    "\n",
    "In this case, we want to treat non-numeric values as missing values. Let's see if there's a way to change how the `pd.to_numeric` function handles errors."
   ]
  },
  {
   "cell_type": "code",
   "execution_count": 16,
   "metadata": {},
   "outputs": [],
   "source": [
    "# The single question mark means \"show me the docstring\"\n",
    "pd.to_numeric?"
   ]
  },
  {
   "cell_type": "markdown",
   "metadata": {},
   "source": [
    "Here's the part that we're looking for:\n",
    "```\n",
    "errors : {'ignore', 'raise', 'coerce'}, default 'raise'\n",
    "    - If 'raise', then invalid parsing will raise an exception\n",
    "    - If 'coerce', then invalid parsing will be set as NaN\n",
    "    - If 'ignore', then invalid parsing will return the input\n",
    "```\n",
    "\n",
    "Let's try setting the `errors` parameter to `'coerce'`."
   ]
  },
  {
   "cell_type": "code",
   "execution_count": 17,
   "metadata": {},
   "outputs": [],
   "source": [
    "sales_df['Major'] = pd.to_numeric(sales_df['Major'], errors='coerce')\n",
    "\n"
   ]
  },
  {
   "cell_type": "markdown",
   "metadata": {},
   "source": [
    "Did it work?"
   ]
  },
  {
   "cell_type": "code",
   "execution_count": 18,
   "metadata": {},
   "outputs": [
    {
     "name": "stdout",
     "output_type": "stream",
     "text": [
      "<class 'pandas.core.frame.DataFrame'>\n",
      "RangeIndex: 2014336 entries, 0 to 2014335\n",
      "Data columns (total 4 columns):\n",
      "Major           float64\n",
      "Minor           object\n",
      "DocumentDate    object\n",
      "SalePrice       int64\n",
      "dtypes: float64(1), int64(1), object(2)\n",
      "memory usage: 61.5+ MB\n"
     ]
    }
   ],
   "source": [
    "sales_df.info()"
   ]
  },
  {
   "cell_type": "markdown",
   "metadata": {},
   "source": [
    "It worked! Let's do the same thing with the `Minor` parcel number."
   ]
  },
  {
   "cell_type": "code",
   "execution_count": 19,
   "metadata": {},
   "outputs": [],
   "source": [
    "sales_df['Minor'] = pd.to_numeric(sales_df['Minor'], errors='coerce')"
   ]
  },
  {
   "cell_type": "code",
   "execution_count": 20,
   "metadata": {},
   "outputs": [
    {
     "name": "stdout",
     "output_type": "stream",
     "text": [
      "<class 'pandas.core.frame.DataFrame'>\n",
      "RangeIndex: 2014336 entries, 0 to 2014335\n",
      "Data columns (total 4 columns):\n",
      "Major           float64\n",
      "Minor           float64\n",
      "DocumentDate    object\n",
      "SalePrice       int64\n",
      "dtypes: float64(2), int64(1), object(1)\n",
      "memory usage: 61.5+ MB\n"
     ]
    }
   ],
   "source": [
    "sales_df.info() "
   ]
  },
  {
   "cell_type": "markdown",
   "metadata": {},
   "source": [
    "Now, let's try our join again."
   ]
  },
  {
   "cell_type": "code",
   "execution_count": 54,
   "metadata": {},
   "outputs": [],
   "source": [
    "sales_data = pd.merge(sales_df, bldg_df, on=['Major', 'Minor'])"
   ]
  },
  {
   "cell_type": "code",
   "execution_count": 55,
   "metadata": {},
   "outputs": [
    {
     "data": {
      "text/html": [
       "<div>\n",
       "<style scoped>\n",
       "    .dataframe tbody tr th:only-of-type {\n",
       "        vertical-align: middle;\n",
       "    }\n",
       "\n",
       "    .dataframe tbody tr th {\n",
       "        vertical-align: top;\n",
       "    }\n",
       "\n",
       "    .dataframe thead th {\n",
       "        text-align: right;\n",
       "    }\n",
       "</style>\n",
       "<table border=\"1\" class=\"dataframe\">\n",
       "  <thead>\n",
       "    <tr style=\"text-align: right;\">\n",
       "      <th></th>\n",
       "      <th>Major</th>\n",
       "      <th>Minor</th>\n",
       "      <th>DocumentDate</th>\n",
       "      <th>SalePrice</th>\n",
       "      <th>SqFtTotLiving</th>\n",
       "      <th>ZipCode</th>\n",
       "    </tr>\n",
       "  </thead>\n",
       "  <tbody>\n",
       "    <tr>\n",
       "      <th>0</th>\n",
       "      <td>138860.0</td>\n",
       "      <td>110.0</td>\n",
       "      <td>08/21/2014</td>\n",
       "      <td>245000</td>\n",
       "      <td>1490</td>\n",
       "      <td>98002</td>\n",
       "    </tr>\n",
       "    <tr>\n",
       "      <th>1</th>\n",
       "      <td>138860.0</td>\n",
       "      <td>110.0</td>\n",
       "      <td>06/12/1989</td>\n",
       "      <td>109300</td>\n",
       "      <td>1490</td>\n",
       "      <td>98002</td>\n",
       "    </tr>\n",
       "    <tr>\n",
       "      <th>2</th>\n",
       "      <td>138860.0</td>\n",
       "      <td>110.0</td>\n",
       "      <td>01/16/2005</td>\n",
       "      <td>14684</td>\n",
       "      <td>1490</td>\n",
       "      <td>98002</td>\n",
       "    </tr>\n",
       "    <tr>\n",
       "      <th>3</th>\n",
       "      <td>138860.0</td>\n",
       "      <td>110.0</td>\n",
       "      <td>06/08/2005</td>\n",
       "      <td>0</td>\n",
       "      <td>1490</td>\n",
       "      <td>98002</td>\n",
       "    </tr>\n",
       "    <tr>\n",
       "      <th>4</th>\n",
       "      <td>423943.0</td>\n",
       "      <td>50.0</td>\n",
       "      <td>10/11/2014</td>\n",
       "      <td>0</td>\n",
       "      <td>960</td>\n",
       "      <td>98092</td>\n",
       "    </tr>\n",
       "  </tbody>\n",
       "</table>\n",
       "</div>"
      ],
      "text/plain": [
       "      Major  Minor DocumentDate  SalePrice  SqFtTotLiving ZipCode\n",
       "0  138860.0  110.0   08/21/2014     245000           1490   98002\n",
       "1  138860.0  110.0   06/12/1989     109300           1490   98002\n",
       "2  138860.0  110.0   01/16/2005      14684           1490   98002\n",
       "3  138860.0  110.0   06/08/2005          0           1490   98002\n",
       "4  423943.0   50.0   10/11/2014          0            960   98092"
      ]
     },
     "execution_count": 55,
     "metadata": {},
     "output_type": "execute_result"
    }
   ],
   "source": [
    "sales_data.head()"
   ]
  },
  {
   "cell_type": "code",
   "execution_count": 56,
   "metadata": {},
   "outputs": [
    {
     "name": "stdout",
     "output_type": "stream",
     "text": [
      "<class 'pandas.core.frame.DataFrame'>\n",
      "Int64Index: 1437522 entries, 0 to 1437521\n",
      "Data columns (total 6 columns):\n",
      "Major            1437522 non-null float64\n",
      "Minor            1437522 non-null float64\n",
      "DocumentDate     1437522 non-null object\n",
      "SalePrice        1437522 non-null int64\n",
      "SqFtTotLiving    1437522 non-null int64\n",
      "ZipCode          1322148 non-null object\n",
      "dtypes: float64(2), int64(2), object(2)\n",
      "memory usage: 76.8+ MB\n"
     ]
    }
   ],
   "source": [
    "sales_data.info()"
   ]
  },
  {
   "cell_type": "markdown",
   "metadata": {},
   "source": [
    "We can see right away that we're missing zip codes for many of the sales transactions. (1321536 non-null entries for ZipCode is fewer than the 1436772 entries in the dataframe.) "
   ]
  },
  {
   "cell_type": "code",
   "execution_count": 57,
   "metadata": {},
   "outputs": [
    {
     "data": {
      "text/html": [
       "<div>\n",
       "<style scoped>\n",
       "    .dataframe tbody tr th:only-of-type {\n",
       "        vertical-align: middle;\n",
       "    }\n",
       "\n",
       "    .dataframe tbody tr th {\n",
       "        vertical-align: top;\n",
       "    }\n",
       "\n",
       "    .dataframe thead th {\n",
       "        text-align: right;\n",
       "    }\n",
       "</style>\n",
       "<table border=\"1\" class=\"dataframe\">\n",
       "  <thead>\n",
       "    <tr style=\"text-align: right;\">\n",
       "      <th></th>\n",
       "      <th>Major</th>\n",
       "      <th>Minor</th>\n",
       "      <th>DocumentDate</th>\n",
       "      <th>SalePrice</th>\n",
       "      <th>SqFtTotLiving</th>\n",
       "      <th>ZipCode</th>\n",
       "    </tr>\n",
       "  </thead>\n",
       "  <tbody>\n",
       "    <tr>\n",
       "      <th>99</th>\n",
       "      <td>858140.0</td>\n",
       "      <td>376.0</td>\n",
       "      <td>05/22/2012</td>\n",
       "      <td>0</td>\n",
       "      <td>900</td>\n",
       "      <td>NaN</td>\n",
       "    </tr>\n",
       "    <tr>\n",
       "      <th>100</th>\n",
       "      <td>858140.0</td>\n",
       "      <td>376.0</td>\n",
       "      <td>11/28/2017</td>\n",
       "      <td>0</td>\n",
       "      <td>900</td>\n",
       "      <td>NaN</td>\n",
       "    </tr>\n",
       "    <tr>\n",
       "      <th>152</th>\n",
       "      <td>720319.0</td>\n",
       "      <td>520.0</td>\n",
       "      <td>11/20/2013</td>\n",
       "      <td>699950</td>\n",
       "      <td>2840</td>\n",
       "      <td>NaN</td>\n",
       "    </tr>\n",
       "    <tr>\n",
       "      <th>153</th>\n",
       "      <td>720319.0</td>\n",
       "      <td>520.0</td>\n",
       "      <td>09/16/2013</td>\n",
       "      <td>0</td>\n",
       "      <td>2840</td>\n",
       "      <td>NaN</td>\n",
       "    </tr>\n",
       "    <tr>\n",
       "      <th>163</th>\n",
       "      <td>894677.0</td>\n",
       "      <td>240.0</td>\n",
       "      <td>12/21/2016</td>\n",
       "      <td>818161</td>\n",
       "      <td>2450</td>\n",
       "      <td>NaN</td>\n",
       "    </tr>\n",
       "  </tbody>\n",
       "</table>\n",
       "</div>"
      ],
      "text/plain": [
       "        Major  Minor DocumentDate  SalePrice  SqFtTotLiving ZipCode\n",
       "99   858140.0  376.0   05/22/2012          0            900     NaN\n",
       "100  858140.0  376.0   11/28/2017          0            900     NaN\n",
       "152  720319.0  520.0   11/20/2013     699950           2840     NaN\n",
       "153  720319.0  520.0   09/16/2013          0           2840     NaN\n",
       "163  894677.0  240.0   12/21/2016     818161           2450     NaN"
      ]
     },
     "execution_count": 57,
     "metadata": {},
     "output_type": "execute_result"
    }
   ],
   "source": [
    "sales_data.loc[sales_data['ZipCode'].isna()].head()"
   ]
  },
  {
   "cell_type": "markdown",
   "metadata": {},
   "source": [
    "Because we are interested in finding houses in Seattle zip codes, we will need to drop the rows with missing zip codes."
   ]
  },
  {
   "cell_type": "code",
   "execution_count": 58,
   "metadata": {},
   "outputs": [
    {
     "data": {
      "text/html": [
       "<div>\n",
       "<style scoped>\n",
       "    .dataframe tbody tr th:only-of-type {\n",
       "        vertical-align: middle;\n",
       "    }\n",
       "\n",
       "    .dataframe tbody tr th {\n",
       "        vertical-align: top;\n",
       "    }\n",
       "\n",
       "    .dataframe thead th {\n",
       "        text-align: right;\n",
       "    }\n",
       "</style>\n",
       "<table border=\"1\" class=\"dataframe\">\n",
       "  <thead>\n",
       "    <tr style=\"text-align: right;\">\n",
       "      <th></th>\n",
       "      <th>Major</th>\n",
       "      <th>Minor</th>\n",
       "      <th>DocumentDate</th>\n",
       "      <th>SalePrice</th>\n",
       "      <th>SqFtTotLiving</th>\n",
       "      <th>ZipCode</th>\n",
       "    </tr>\n",
       "  </thead>\n",
       "  <tbody>\n",
       "    <tr>\n",
       "      <th>1437517</th>\n",
       "      <td>947794.0</td>\n",
       "      <td>320.0</td>\n",
       "      <td>02/22/2002</td>\n",
       "      <td>331681</td>\n",
       "      <td>3010</td>\n",
       "      <td>98059</td>\n",
       "    </tr>\n",
       "    <tr>\n",
       "      <th>1437518</th>\n",
       "      <td>404080.0</td>\n",
       "      <td>40.0</td>\n",
       "      <td>05/31/2018</td>\n",
       "      <td>0</td>\n",
       "      <td>1060</td>\n",
       "      <td>98008</td>\n",
       "    </tr>\n",
       "    <tr>\n",
       "      <th>1437519</th>\n",
       "      <td>721470.0</td>\n",
       "      <td>820.0</td>\n",
       "      <td>04/15/2005</td>\n",
       "      <td>484950</td>\n",
       "      <td>2620</td>\n",
       "      <td>98077</td>\n",
       "    </tr>\n",
       "    <tr>\n",
       "      <th>1437520</th>\n",
       "      <td>235430.0</td>\n",
       "      <td>782.0</td>\n",
       "      <td>06/01/1984</td>\n",
       "      <td>85000</td>\n",
       "      <td>1500</td>\n",
       "      <td>98027</td>\n",
       "    </tr>\n",
       "    <tr>\n",
       "      <th>1437521</th>\n",
       "      <td>401990.0</td>\n",
       "      <td>175.0</td>\n",
       "      <td>05/30/2006</td>\n",
       "      <td>0</td>\n",
       "      <td>1840</td>\n",
       "      <td>98155</td>\n",
       "    </tr>\n",
       "  </tbody>\n",
       "</table>\n",
       "</div>"
      ],
      "text/plain": [
       "            Major  Minor DocumentDate  SalePrice  SqFtTotLiving ZipCode\n",
       "1437517  947794.0  320.0   02/22/2002     331681           3010   98059\n",
       "1437518  404080.0   40.0   05/31/2018          0           1060   98008\n",
       "1437519  721470.0  820.0   04/15/2005     484950           2620   98077\n",
       "1437520  235430.0  782.0   06/01/1984      85000           1500   98027\n",
       "1437521  401990.0  175.0   05/30/2006          0           1840   98155"
      ]
     },
     "execution_count": 58,
     "metadata": {},
     "output_type": "execute_result"
    }
   ],
   "source": [
    "sales_data = sales_data.loc[~sales_data['ZipCode'].isna(), :]\n",
    "#creats a boolean mask, 1 for zip codes, 0 for not\n",
    "#~ flips a boolean , ~salesdata in this case makes zeros for values for zip codes, and 1 for no zip code\n",
    "sales_data.tail()"
   ]
  },
  {
   "cell_type": "markdown",
   "metadata": {},
   "source": [
    "# Your turn: Data Cleaning with Pandas"
   ]
  },
  {
   "cell_type": "markdown",
   "metadata": {},
   "source": [
    "### 1. Investigate and drop rows with invalid values in the SalePrice and SqFtTotLiving columns.\n",
    "\n",
    "Use multiple notebook cells to accomplish this! Press `[esc]` then `B` to create a new cell below the current cell. Press `[return]` to start typing in the new cell."
   ]
  },
  {
   "cell_type": "code",
   "execution_count": 219,
   "metadata": {},
   "outputs": [
    {
     "name": "stdout",
     "output_type": "stream",
     "text": [
      "<class 'pandas.core.frame.DataFrame'>\n",
      "Int64Index: 867413 entries, 0 to 1437520\n",
      "Data columns (total 6 columns):\n",
      "Major            867413 non-null float64\n",
      "Minor            867413 non-null float64\n",
      "DocumentDate     867413 non-null object\n",
      "SalePrice        867413 non-null int64\n",
      "SqFtTotLiving    867413 non-null int64\n",
      "ZipCode          867413 non-null object\n",
      "dtypes: float64(2), int64(2), object(2)\n",
      "memory usage: 46.3+ MB\n"
     ]
    }
   ],
   "source": [
    "sales_price = sales_data.loc[sales_data['SalePrice'] > 0, :]\n",
    "sales_price.info()"
   ]
  },
  {
   "cell_type": "code",
   "execution_count": 215,
   "metadata": {},
   "outputs": [],
   "source": [
    "sales_price = sales_price.loc[sales_price['SqFtTotLiving'] > 0, :]"
   ]
  },
  {
   "cell_type": "code",
   "execution_count": 220,
   "metadata": {},
   "outputs": [
    {
     "name": "stdout",
     "output_type": "stream",
     "text": [
      "<class 'pandas.core.frame.DataFrame'>\n",
      "Int64Index: 867413 entries, 0 to 1437520\n",
      "Data columns (total 6 columns):\n",
      "Major            867413 non-null float64\n",
      "Minor            867413 non-null float64\n",
      "DocumentDate     867413 non-null object\n",
      "SalePrice        867413 non-null int64\n",
      "SqFtTotLiving    867413 non-null int64\n",
      "ZipCode          867413 non-null object\n",
      "dtypes: float64(2), int64(2), object(2)\n",
      "memory usage: 46.3+ MB\n"
     ]
    }
   ],
   "source": [
    "sales_price.info()"
   ]
  },
  {
   "cell_type": "markdown",
   "metadata": {},
   "source": [
    "### 2. Investigate and handle non-numeric ZipCode values\n",
    "\n",
    "Can you find a way to shorten ZIP+4 codes to the first five digits?\n",
    "\n",
    "What's the right thing to do with missing values?"
   ]
  },
  {
   "cell_type": "code",
   "execution_count": 221,
   "metadata": {
    "scrolled": true
   },
   "outputs": [
    {
     "data": {
      "text/plain": [
       "10168    98042-3001\n",
       "10169    98042-3001\n",
       "10170    98042-3001\n",
       "10171    98042-3001\n",
       "16528    98199-3014\n",
       "Name: ZipCode, dtype: object"
      ]
     },
     "execution_count": 221,
     "metadata": {},
     "output_type": "execute_result"
    }
   ],
   "source": [
    "# Read the error message and decide how to fix it.\n",
    "# Note: using errors='coerce' is the *wrong* choice in this case.\n",
    "def is_integer(x):\n",
    "    try:\n",
    "        _ = int(x)\n",
    "    except ValueError:\n",
    "        return False\n",
    "    return True\n",
    "\n",
    "sales_price.loc[sales_price['ZipCode'].apply(is_integer) == False, 'ZipCode'].head()"
   ]
  },
  {
   "cell_type": "code",
   "execution_count": 223,
   "metadata": {},
   "outputs": [
    {
     "name": "stderr",
     "output_type": "stream",
     "text": [
      "/Users/krex/anaconda3/lib/python3.7/site-packages/ipykernel_launcher.py:1: SettingWithCopyWarning: \n",
      "A value is trying to be set on a copy of a slice from a DataFrame.\n",
      "Try using .loc[row_indexer,col_indexer] = value instead\n",
      "\n",
      "See the caveats in the documentation: http://pandas.pydata.org/pandas-docs/stable/indexing.html#indexing-view-versus-copy\n",
      "  \"\"\"Entry point for launching an IPython kernel.\n"
     ]
    },
    {
     "name": "stdout",
     "output_type": "stream",
     "text": [
      "<class 'pandas.core.frame.DataFrame'>\n",
      "Int64Index: 867413 entries, 0 to 1437520\n",
      "Data columns (total 6 columns):\n",
      "Major            867413 non-null float64\n",
      "Minor            867413 non-null float64\n",
      "DocumentDate     867413 non-null object\n",
      "SalePrice        867413 non-null int64\n",
      "SqFtTotLiving    867413 non-null int64\n",
      "ZipCode          867413 non-null object\n",
      "dtypes: float64(2), int64(2), object(2)\n",
      "memory usage: 46.3+ MB\n"
     ]
    }
   ],
   "source": [
    "sales_price['ZipCode'] = sales_price['ZipCode'].apply(lambda x: str(x)[:5])\n",
    "sales_price.info()"
   ]
  },
  {
   "cell_type": "code",
   "execution_count": 165,
   "metadata": {},
   "outputs": [],
   "source": [
    "#def first_five(x):\n",
    "   # y = str(x)\n",
    "  #  z = y[:5]\n",
    "   # return z"
   ]
  },
  {
   "cell_type": "code",
   "execution_count": 181,
   "metadata": {},
   "outputs": [
    {
     "data": {
      "text/plain": [
       "1437398    98034.\n",
       "1437401    98198.\n",
       "1437467    98168.\n",
       "1437502    98115.\n",
       "1437519    98077.\n",
       "Name: ZipCode, dtype: object"
      ]
     },
     "execution_count": 181,
     "metadata": {},
     "output_type": "execute_result"
    }
   ],
   "source": [
    "#sales_price.loc[sales_price['ZipCode'].apply(is_integer) == False, 'ZipCode'].tail()"
   ]
  },
  {
   "cell_type": "code",
   "execution_count": 212,
   "metadata": {
    "scrolled": true
   },
   "outputs": [
    {
     "ename": "TypeError",
     "evalue": "int() argument must be a string, a bytes-like object or a number, not 'builtin_function_or_method'",
     "output_type": "error",
     "traceback": [
      "\u001b[0;31m---------------------------------------------------------------------------\u001b[0m",
      "\u001b[0;31mTypeError\u001b[0m                                 Traceback (most recent call last)",
      "\u001b[0;32m<ipython-input-212-94d5fea5b4f0>\u001b[0m in \u001b[0;36m<module>\u001b[0;34m\u001b[0m\n\u001b[1;32m      1\u001b[0m \u001b[0msales_price\u001b[0m\u001b[0;34m[\u001b[0m\u001b[0;34m'ZipCode'\u001b[0m\u001b[0;34m]\u001b[0m \u001b[0;34m=\u001b[0m \u001b[0msales_price\u001b[0m\u001b[0;34m[\u001b[0m\u001b[0;34m'ZipCode'\u001b[0m\u001b[0;34m]\u001b[0m\u001b[0;34m.\u001b[0m\u001b[0mapply\u001b[0m\u001b[0;34m(\u001b[0m\u001b[0;32mlambda\u001b[0m \u001b[0mx\u001b[0m\u001b[0;34m:\u001b[0m \u001b[0mstr\u001b[0m\u001b[0;34m(\u001b[0m\u001b[0mx\u001b[0m\u001b[0;34m)\u001b[0m\u001b[0;34m[\u001b[0m\u001b[0;34m:\u001b[0m\u001b[0;36m6\u001b[0m\u001b[0;34m]\u001b[0m\u001b[0;34m)\u001b[0m\u001b[0;34m\u001b[0m\u001b[0;34m\u001b[0m\u001b[0m\n\u001b[1;32m      2\u001b[0m \u001b[0msales_price\u001b[0m\u001b[0;34m[\u001b[0m\u001b[0;34m'ZipCode'\u001b[0m\u001b[0;34m]\u001b[0m \u001b[0;34m=\u001b[0m \u001b[0msales_price\u001b[0m\u001b[0;34m[\u001b[0m\u001b[0;34m'ZipCode'\u001b[0m\u001b[0;34m]\u001b[0m\u001b[0;34m.\u001b[0m\u001b[0mapply\u001b[0m\u001b[0;34m(\u001b[0m\u001b[0;32mlambda\u001b[0m \u001b[0mx\u001b[0m\u001b[0;34m:\u001b[0m \u001b[0mx\u001b[0m\u001b[0;34m.\u001b[0m\u001b[0mstrip\u001b[0m\u001b[0;34m)\u001b[0m\u001b[0;34m\u001b[0m\u001b[0;34m\u001b[0m\u001b[0m\n\u001b[0;32m----> 3\u001b[0;31m \u001b[0msales_price\u001b[0m\u001b[0;34m[\u001b[0m\u001b[0;34m'ZipCode'\u001b[0m\u001b[0;34m]\u001b[0m \u001b[0;34m=\u001b[0m \u001b[0msales_price\u001b[0m\u001b[0;34m[\u001b[0m\u001b[0;34m'ZipCode'\u001b[0m\u001b[0;34m]\u001b[0m\u001b[0;34m.\u001b[0m\u001b[0mapply\u001b[0m\u001b[0;34m(\u001b[0m\u001b[0;32mlambda\u001b[0m \u001b[0mx\u001b[0m\u001b[0;34m:\u001b[0m \u001b[0mint\u001b[0m\u001b[0;34m(\u001b[0m\u001b[0mx\u001b[0m\u001b[0;34m)\u001b[0m\u001b[0;34m)\u001b[0m\u001b[0;34m\u001b[0m\u001b[0;34m\u001b[0m\u001b[0m\n\u001b[0m",
      "\u001b[0;32m~/anaconda3/lib/python3.7/site-packages/pandas/core/series.py\u001b[0m in \u001b[0;36mapply\u001b[0;34m(self, func, convert_dtype, args, **kwds)\u001b[0m\n\u001b[1;32m   3192\u001b[0m             \u001b[0;32melse\u001b[0m\u001b[0;34m:\u001b[0m\u001b[0;34m\u001b[0m\u001b[0;34m\u001b[0m\u001b[0m\n\u001b[1;32m   3193\u001b[0m                 \u001b[0mvalues\u001b[0m \u001b[0;34m=\u001b[0m \u001b[0mself\u001b[0m\u001b[0;34m.\u001b[0m\u001b[0mastype\u001b[0m\u001b[0;34m(\u001b[0m\u001b[0mobject\u001b[0m\u001b[0;34m)\u001b[0m\u001b[0;34m.\u001b[0m\u001b[0mvalues\u001b[0m\u001b[0;34m\u001b[0m\u001b[0;34m\u001b[0m\u001b[0m\n\u001b[0;32m-> 3194\u001b[0;31m                 \u001b[0mmapped\u001b[0m \u001b[0;34m=\u001b[0m \u001b[0mlib\u001b[0m\u001b[0;34m.\u001b[0m\u001b[0mmap_infer\u001b[0m\u001b[0;34m(\u001b[0m\u001b[0mvalues\u001b[0m\u001b[0;34m,\u001b[0m \u001b[0mf\u001b[0m\u001b[0;34m,\u001b[0m \u001b[0mconvert\u001b[0m\u001b[0;34m=\u001b[0m\u001b[0mconvert_dtype\u001b[0m\u001b[0;34m)\u001b[0m\u001b[0;34m\u001b[0m\u001b[0;34m\u001b[0m\u001b[0m\n\u001b[0m\u001b[1;32m   3195\u001b[0m \u001b[0;34m\u001b[0m\u001b[0m\n\u001b[1;32m   3196\u001b[0m         \u001b[0;32mif\u001b[0m \u001b[0mlen\u001b[0m\u001b[0;34m(\u001b[0m\u001b[0mmapped\u001b[0m\u001b[0;34m)\u001b[0m \u001b[0;32mand\u001b[0m \u001b[0misinstance\u001b[0m\u001b[0;34m(\u001b[0m\u001b[0mmapped\u001b[0m\u001b[0;34m[\u001b[0m\u001b[0;36m0\u001b[0m\u001b[0;34m]\u001b[0m\u001b[0;34m,\u001b[0m \u001b[0mSeries\u001b[0m\u001b[0;34m)\u001b[0m\u001b[0;34m:\u001b[0m\u001b[0;34m\u001b[0m\u001b[0;34m\u001b[0m\u001b[0m\n",
      "\u001b[0;32mpandas/_libs/src/inference.pyx\u001b[0m in \u001b[0;36mpandas._libs.lib.map_infer\u001b[0;34m()\u001b[0m\n",
      "\u001b[0;32m<ipython-input-212-94d5fea5b4f0>\u001b[0m in \u001b[0;36m<lambda>\u001b[0;34m(x)\u001b[0m\n\u001b[1;32m      1\u001b[0m \u001b[0msales_price\u001b[0m\u001b[0;34m[\u001b[0m\u001b[0;34m'ZipCode'\u001b[0m\u001b[0;34m]\u001b[0m \u001b[0;34m=\u001b[0m \u001b[0msales_price\u001b[0m\u001b[0;34m[\u001b[0m\u001b[0;34m'ZipCode'\u001b[0m\u001b[0;34m]\u001b[0m\u001b[0;34m.\u001b[0m\u001b[0mapply\u001b[0m\u001b[0;34m(\u001b[0m\u001b[0;32mlambda\u001b[0m \u001b[0mx\u001b[0m\u001b[0;34m:\u001b[0m \u001b[0mstr\u001b[0m\u001b[0;34m(\u001b[0m\u001b[0mx\u001b[0m\u001b[0;34m)\u001b[0m\u001b[0;34m[\u001b[0m\u001b[0;34m:\u001b[0m\u001b[0;36m6\u001b[0m\u001b[0;34m]\u001b[0m\u001b[0;34m)\u001b[0m\u001b[0;34m\u001b[0m\u001b[0;34m\u001b[0m\u001b[0m\n\u001b[1;32m      2\u001b[0m \u001b[0msales_price\u001b[0m\u001b[0;34m[\u001b[0m\u001b[0;34m'ZipCode'\u001b[0m\u001b[0;34m]\u001b[0m \u001b[0;34m=\u001b[0m \u001b[0msales_price\u001b[0m\u001b[0;34m[\u001b[0m\u001b[0;34m'ZipCode'\u001b[0m\u001b[0;34m]\u001b[0m\u001b[0;34m.\u001b[0m\u001b[0mapply\u001b[0m\u001b[0;34m(\u001b[0m\u001b[0;32mlambda\u001b[0m \u001b[0mx\u001b[0m\u001b[0;34m:\u001b[0m \u001b[0mx\u001b[0m\u001b[0;34m.\u001b[0m\u001b[0mstrip\u001b[0m\u001b[0;34m)\u001b[0m\u001b[0;34m\u001b[0m\u001b[0;34m\u001b[0m\u001b[0m\n\u001b[0;32m----> 3\u001b[0;31m \u001b[0msales_price\u001b[0m\u001b[0;34m[\u001b[0m\u001b[0;34m'ZipCode'\u001b[0m\u001b[0;34m]\u001b[0m \u001b[0;34m=\u001b[0m \u001b[0msales_price\u001b[0m\u001b[0;34m[\u001b[0m\u001b[0;34m'ZipCode'\u001b[0m\u001b[0;34m]\u001b[0m\u001b[0;34m.\u001b[0m\u001b[0mapply\u001b[0m\u001b[0;34m(\u001b[0m\u001b[0;32mlambda\u001b[0m \u001b[0mx\u001b[0m\u001b[0;34m:\u001b[0m \u001b[0mint\u001b[0m\u001b[0;34m(\u001b[0m\u001b[0mx\u001b[0m\u001b[0;34m)\u001b[0m\u001b[0;34m)\u001b[0m\u001b[0;34m\u001b[0m\u001b[0;34m\u001b[0m\u001b[0m\n\u001b[0m",
      "\u001b[0;31mTypeError\u001b[0m: int() argument must be a string, a bytes-like object or a number, not 'builtin_function_or_method'"
     ]
    }
   ],
   "source": [
    "#sales_price['ZipCode'] = sales_price['ZipCode'].apply(lambda x: str(x)[:6])\n",
    "#sales_price['ZipCode'] = sales_price['ZipCode'].apply(lambda x: x.strip)\n",
    "#sales_price['ZipCode'] = sales_price['ZipCode'].apply(lambda x: int(x))\n"
   ]
  },
  {
   "cell_type": "code",
   "execution_count": 35,
   "metadata": {},
   "outputs": [
    {
     "ename": "NameError",
     "evalue": "name 'sales_prices_2' is not defined",
     "output_type": "error",
     "traceback": [
      "\u001b[0;31m---------------------------------------------------------------------------\u001b[0m",
      "\u001b[0;31mNameError\u001b[0m                                 Traceback (most recent call last)",
      "\u001b[0;32m<ipython-input-35-dca9692b57fe>\u001b[0m in \u001b[0;36m<module>\u001b[0;34m\u001b[0m\n\u001b[0;32m----> 1\u001b[0;31m \u001b[0msales_zips\u001b[0m \u001b[0;34m=\u001b[0m \u001b[0msales_prices_2\u001b[0m\u001b[0;34m.\u001b[0m\u001b[0mloc\u001b[0m\u001b[0;34m[\u001b[0m\u001b[0;34m~\u001b[0m\u001b[0msales_prices_2\u001b[0m\u001b[0;34m[\u001b[0m\u001b[0;34m'ZipCode'\u001b[0m\u001b[0;34m]\u001b[0m\u001b[0;34m.\u001b[0m\u001b[0misna\u001b[0m\u001b[0;34m(\u001b[0m\u001b[0;34m)\u001b[0m\u001b[0;34m,\u001b[0m \u001b[0;34m:\u001b[0m\u001b[0;34m]\u001b[0m\u001b[0;34m\u001b[0m\u001b[0;34m\u001b[0m\u001b[0m\n\u001b[0m\u001b[1;32m      2\u001b[0m \u001b[0msales_zips\u001b[0m\u001b[0;34m\u001b[0m\u001b[0;34m\u001b[0m\u001b[0m\n",
      "\u001b[0;31mNameError\u001b[0m: name 'sales_prices_2' is not defined"
     ]
    }
   ],
   "source": [
    "#sales_zips = sales_prices_2.loc[~sales_prices_2['ZipCode'].isna(), :]\n",
    "#sales_zips"
   ]
  },
  {
   "cell_type": "markdown",
   "metadata": {},
   "source": [
    "### 3. Add a column for PricePerSqFt\n",
    "\n"
   ]
  },
  {
   "cell_type": "code",
   "execution_count": 230,
   "metadata": {},
   "outputs": [
    {
     "name": "stderr",
     "output_type": "stream",
     "text": [
      "/Users/krex/anaconda3/lib/python3.7/site-packages/ipykernel_launcher.py:1: SettingWithCopyWarning: \n",
      "A value is trying to be set on a copy of a slice from a DataFrame.\n",
      "Try using .loc[row_indexer,col_indexer] = value instead\n",
      "\n",
      "See the caveats in the documentation: http://pandas.pydata.org/pandas-docs/stable/indexing.html#indexing-view-versus-copy\n",
      "  \"\"\"Entry point for launching an IPython kernel.\n"
     ]
    },
    {
     "data": {
      "text/html": [
       "<div>\n",
       "<style scoped>\n",
       "    .dataframe tbody tr th:only-of-type {\n",
       "        vertical-align: middle;\n",
       "    }\n",
       "\n",
       "    .dataframe tbody tr th {\n",
       "        vertical-align: top;\n",
       "    }\n",
       "\n",
       "    .dataframe thead th {\n",
       "        text-align: right;\n",
       "    }\n",
       "</style>\n",
       "<table border=\"1\" class=\"dataframe\">\n",
       "  <thead>\n",
       "    <tr style=\"text-align: right;\">\n",
       "      <th></th>\n",
       "      <th>Major</th>\n",
       "      <th>Minor</th>\n",
       "      <th>DocumentDate</th>\n",
       "      <th>SalePrice</th>\n",
       "      <th>SqFtTotLiving</th>\n",
       "      <th>ZipCode</th>\n",
       "      <th>PricePerSqFt</th>\n",
       "    </tr>\n",
       "  </thead>\n",
       "  <tbody>\n",
       "    <tr>\n",
       "      <th>0</th>\n",
       "      <td>138860.0</td>\n",
       "      <td>110.0</td>\n",
       "      <td>08/21/2014</td>\n",
       "      <td>245000</td>\n",
       "      <td>1490</td>\n",
       "      <td>98002</td>\n",
       "      <td>164.429530</td>\n",
       "    </tr>\n",
       "    <tr>\n",
       "      <th>1</th>\n",
       "      <td>138860.0</td>\n",
       "      <td>110.0</td>\n",
       "      <td>06/12/1989</td>\n",
       "      <td>109300</td>\n",
       "      <td>1490</td>\n",
       "      <td>98002</td>\n",
       "      <td>73.355705</td>\n",
       "    </tr>\n",
       "    <tr>\n",
       "      <th>2</th>\n",
       "      <td>138860.0</td>\n",
       "      <td>110.0</td>\n",
       "      <td>01/16/2005</td>\n",
       "      <td>14684</td>\n",
       "      <td>1490</td>\n",
       "      <td>98002</td>\n",
       "      <td>9.855034</td>\n",
       "    </tr>\n",
       "    <tr>\n",
       "      <th>6</th>\n",
       "      <td>423943.0</td>\n",
       "      <td>50.0</td>\n",
       "      <td>07/15/1999</td>\n",
       "      <td>96000</td>\n",
       "      <td>960</td>\n",
       "      <td>98092</td>\n",
       "      <td>100.000000</td>\n",
       "    </tr>\n",
       "    <tr>\n",
       "      <th>7</th>\n",
       "      <td>423943.0</td>\n",
       "      <td>50.0</td>\n",
       "      <td>01/08/2001</td>\n",
       "      <td>127500</td>\n",
       "      <td>960</td>\n",
       "      <td>98092</td>\n",
       "      <td>132.812500</td>\n",
       "    </tr>\n",
       "  </tbody>\n",
       "</table>\n",
       "</div>"
      ],
      "text/plain": [
       "      Major  Minor DocumentDate  SalePrice  SqFtTotLiving ZipCode  \\\n",
       "0  138860.0  110.0   08/21/2014     245000           1490   98002   \n",
       "1  138860.0  110.0   06/12/1989     109300           1490   98002   \n",
       "2  138860.0  110.0   01/16/2005      14684           1490   98002   \n",
       "6  423943.0   50.0   07/15/1999      96000            960   98092   \n",
       "7  423943.0   50.0   01/08/2001     127500            960   98092   \n",
       "\n",
       "   PricePerSqFt  \n",
       "0    164.429530  \n",
       "1     73.355705  \n",
       "2      9.855034  \n",
       "6    100.000000  \n",
       "7    132.812500  "
      ]
     },
     "execution_count": 230,
     "metadata": {},
     "output_type": "execute_result"
    }
   ],
   "source": [
    "sales_price['PricePerSqFt'] = sales_price['SalePrice'] / sales_price['SqFtTotLiving']\n",
    "sales_price.head()"
   ]
  },
  {
   "cell_type": "code",
   "execution_count": 229,
   "metadata": {},
   "outputs": [
    {
     "name": "stderr",
     "output_type": "stream",
     "text": [
      "/Users/krex/anaconda3/lib/python3.7/site-packages/ipykernel_launcher.py:1: SettingWithCopyWarning: \n",
      "A value is trying to be set on a copy of a slice from a DataFrame.\n",
      "Try using .loc[row_indexer,col_indexer] = value instead\n",
      "\n",
      "See the caveats in the documentation: http://pandas.pydata.org/pandas-docs/stable/indexing.html#indexing-view-versus-copy\n",
      "  \"\"\"Entry point for launching an IPython kernel.\n"
     ]
    },
    {
     "name": "stdout",
     "output_type": "stream",
     "text": [
      "<class 'pandas.core.frame.DataFrame'>\n",
      "Int64Index: 867413 entries, 0 to 1437520\n",
      "Data columns (total 7 columns):\n",
      "Major            867413 non-null float64\n",
      "Minor            867413 non-null float64\n",
      "DocumentDate     867413 non-null object\n",
      "SalePrice        867413 non-null int64\n",
      "SqFtTotLiving    867413 non-null int64\n",
      "ZipCode          867413 non-null object\n",
      "PricePerSqFt     867413 non-null float64\n",
      "dtypes: float64(3), int64(2), object(2)\n",
      "memory usage: 52.9+ MB\n"
     ]
    }
   ],
   "source": [
    "sales_price['PricePerSqFt'] = sales_price[\"SalePrice\"]/sales_price[\"SqFtTotLiving\"]\n",
    "sales_price.info()"
   ]
  },
  {
   "cell_type": "markdown",
   "metadata": {},
   "source": [
    "### 4. Subset the data to 2019 sales only.\n",
    "\n",
    "We can assume that the DocumentDate is approximately the sale date."
   ]
  },
  {
   "cell_type": "code",
   "execution_count": 231,
   "metadata": {},
   "outputs": [
    {
     "name": "stderr",
     "output_type": "stream",
     "text": [
      "/Users/krex/anaconda3/lib/python3.7/site-packages/ipykernel_launcher.py:1: SettingWithCopyWarning: \n",
      "A value is trying to be set on a copy of a slice from a DataFrame.\n",
      "Try using .loc[row_indexer,col_indexer] = value instead\n",
      "\n",
      "See the caveats in the documentation: http://pandas.pydata.org/pandas-docs/stable/indexing.html#indexing-view-versus-copy\n",
      "  \"\"\"Entry point for launching an IPython kernel.\n"
     ]
    },
    {
     "data": {
      "text/html": [
       "<div>\n",
       "<style scoped>\n",
       "    .dataframe tbody tr th:only-of-type {\n",
       "        vertical-align: middle;\n",
       "    }\n",
       "\n",
       "    .dataframe tbody tr th {\n",
       "        vertical-align: top;\n",
       "    }\n",
       "\n",
       "    .dataframe thead th {\n",
       "        text-align: right;\n",
       "    }\n",
       "</style>\n",
       "<table border=\"1\" class=\"dataframe\">\n",
       "  <thead>\n",
       "    <tr style=\"text-align: right;\">\n",
       "      <th></th>\n",
       "      <th>Major</th>\n",
       "      <th>Minor</th>\n",
       "      <th>DocumentDate</th>\n",
       "      <th>SalePrice</th>\n",
       "      <th>SqFtTotLiving</th>\n",
       "      <th>ZipCode</th>\n",
       "      <th>PricePerSqFt</th>\n",
       "    </tr>\n",
       "  </thead>\n",
       "  <tbody>\n",
       "    <tr>\n",
       "      <th>0</th>\n",
       "      <td>138860.0</td>\n",
       "      <td>110.0</td>\n",
       "      <td>2014-08-21</td>\n",
       "      <td>245000</td>\n",
       "      <td>1490</td>\n",
       "      <td>98002</td>\n",
       "      <td>164.429530</td>\n",
       "    </tr>\n",
       "    <tr>\n",
       "      <th>1</th>\n",
       "      <td>138860.0</td>\n",
       "      <td>110.0</td>\n",
       "      <td>1989-06-12</td>\n",
       "      <td>109300</td>\n",
       "      <td>1490</td>\n",
       "      <td>98002</td>\n",
       "      <td>73.355705</td>\n",
       "    </tr>\n",
       "    <tr>\n",
       "      <th>2</th>\n",
       "      <td>138860.0</td>\n",
       "      <td>110.0</td>\n",
       "      <td>2005-01-16</td>\n",
       "      <td>14684</td>\n",
       "      <td>1490</td>\n",
       "      <td>98002</td>\n",
       "      <td>9.855034</td>\n",
       "    </tr>\n",
       "    <tr>\n",
       "      <th>6</th>\n",
       "      <td>423943.0</td>\n",
       "      <td>50.0</td>\n",
       "      <td>1999-07-15</td>\n",
       "      <td>96000</td>\n",
       "      <td>960</td>\n",
       "      <td>98092</td>\n",
       "      <td>100.000000</td>\n",
       "    </tr>\n",
       "    <tr>\n",
       "      <th>7</th>\n",
       "      <td>423943.0</td>\n",
       "      <td>50.0</td>\n",
       "      <td>2001-01-08</td>\n",
       "      <td>127500</td>\n",
       "      <td>960</td>\n",
       "      <td>98092</td>\n",
       "      <td>132.812500</td>\n",
       "    </tr>\n",
       "  </tbody>\n",
       "</table>\n",
       "</div>"
      ],
      "text/plain": [
       "      Major  Minor DocumentDate  SalePrice  SqFtTotLiving ZipCode  \\\n",
       "0  138860.0  110.0   2014-08-21     245000           1490   98002   \n",
       "1  138860.0  110.0   1989-06-12     109300           1490   98002   \n",
       "2  138860.0  110.0   2005-01-16      14684           1490   98002   \n",
       "6  423943.0   50.0   1999-07-15      96000            960   98092   \n",
       "7  423943.0   50.0   2001-01-08     127500            960   98092   \n",
       "\n",
       "   PricePerSqFt  \n",
       "0    164.429530  \n",
       "1     73.355705  \n",
       "2      9.855034  \n",
       "6    100.000000  \n",
       "7    132.812500  "
      ]
     },
     "execution_count": 231,
     "metadata": {},
     "output_type": "execute_result"
    }
   ],
   "source": [
    "sales_price['DocumentDate']= pd.to_datetime(sales_price['DocumentDate'])\n",
    "sales_price.head()"
   ]
  },
  {
   "cell_type": "code",
   "execution_count": 232,
   "metadata": {},
   "outputs": [
    {
     "name": "stdout",
     "output_type": "stream",
     "text": [
      "<class 'pandas.core.frame.DataFrame'>\n",
      "Int64Index: 3626 entries, 605 to 1437220\n",
      "Data columns (total 7 columns):\n",
      "Major            3626 non-null float64\n",
      "Minor            3626 non-null float64\n",
      "DocumentDate     3626 non-null datetime64[ns]\n",
      "SalePrice        3626 non-null int64\n",
      "SqFtTotLiving    3626 non-null int64\n",
      "ZipCode          3626 non-null object\n",
      "PricePerSqFt     3626 non-null float64\n",
      "dtypes: datetime64[ns](1), float64(3), int64(2), object(1)\n",
      "memory usage: 226.6+ KB\n"
     ]
    }
   ],
   "source": [
    "sales_2019 = sales_price[sales_price['DocumentDate'].apply(lambda x: x.year == 2019)]\n",
    "\n",
    "sales_2019.info()\n",
    "\n",
    "#sales_datak = sales_datak.loc[sales_datak['DocumentDate']. > 0, :]"
   ]
  },
  {
   "cell_type": "markdown",
   "metadata": {},
   "source": [
    "### 5. Subset the data to zip codes within the City of Seattle.\n",
    "\n",
    "You'll need to find a list of Seattle zip codes!"
   ]
  },
  {
   "cell_type": "code",
   "execution_count": 234,
   "metadata": {},
   "outputs": [],
   "source": [
    "seattle_zips = [98101, 98102, 98103, 98104, 98105, 98106, 98107, 98108, 98109, 98112, 98115, 98116, 98117, 98118, 98119, 98121, 98122, 98125, 98126, 98133, 98134, 98136, 98144, 98146, 98154, 98164, 98174, 98177, 98178, 98195, 98199]"
   ]
  },
  {
   "cell_type": "code",
   "execution_count": 235,
   "metadata": {},
   "outputs": [
    {
     "data": {
      "text/plain": [
       "['98101',\n",
       " '98102',\n",
       " '98103',\n",
       " '98104',\n",
       " '98105',\n",
       " '98106',\n",
       " '98107',\n",
       " '98108',\n",
       " '98109',\n",
       " '98112',\n",
       " '98115',\n",
       " '98116',\n",
       " '98117',\n",
       " '98118',\n",
       " '98119',\n",
       " '98121',\n",
       " '98122',\n",
       " '98125',\n",
       " '98126',\n",
       " '98133',\n",
       " '98134',\n",
       " '98136',\n",
       " '98144',\n",
       " '98146',\n",
       " '98154',\n",
       " '98164',\n",
       " '98174',\n",
       " '98177',\n",
       " '98178',\n",
       " '98195',\n",
       " '98199']"
      ]
     },
     "execution_count": 235,
     "metadata": {},
     "output_type": "execute_result"
    }
   ],
   "source": [
    "seattle_zip_strings= []\n",
    "for zip in seattle_zips:\n",
    "    seattle_zip_strings.append(str(zip))\n",
    "seattle_zip_strings"
   ]
  },
  {
   "cell_type": "code",
   "execution_count": 237,
   "metadata": {},
   "outputs": [
    {
     "name": "stdout",
     "output_type": "stream",
     "text": [
      "<class 'pandas.core.frame.DataFrame'>\n",
      "Int64Index: 1495 entries, 651 to 1437220\n",
      "Data columns (total 7 columns):\n",
      "Major            1495 non-null float64\n",
      "Minor            1495 non-null float64\n",
      "DocumentDate     1495 non-null datetime64[ns]\n",
      "SalePrice        1495 non-null int64\n",
      "SqFtTotLiving    1495 non-null int64\n",
      "ZipCode          1495 non-null object\n",
      "PricePerSqFt     1495 non-null float64\n",
      "dtypes: datetime64[ns](1), float64(3), int64(2), object(1)\n",
      "memory usage: 93.4+ KB\n"
     ]
    }
   ],
   "source": [
    "seattle_sales_2019 = sales_2019[sales_2019[\"ZipCode\"].apply(lambda x: x.startswith(\"981\"))]\n",
    "seattle_sales_2019.info()"
   ]
  },
  {
   "cell_type": "markdown",
   "metadata": {},
   "source": [
    "### 6. What is the mean price per square foot for a house sold in Seattle in 2019?\n",
    "\n",
    "Don't just type the answer. Type code that generates the answer as output!"
   ]
  },
  {
   "cell_type": "code",
   "execution_count": 238,
   "metadata": {},
   "outputs": [
    {
     "data": {
      "text/plain": [
       "471.5043638771971"
      ]
     },
     "execution_count": 238,
     "metadata": {},
     "output_type": "execute_result"
    }
   ],
   "source": [
    "seattle_sales_2019['PricePerSqFt'].mean()"
   ]
  },
  {
   "cell_type": "code",
   "execution_count": null,
   "metadata": {},
   "outputs": [],
   "source": []
  }
 ],
 "metadata": {
  "kernelspec": {
   "display_name": "Python 3",
   "language": "python",
   "name": "python3"
  },
  "language_info": {
   "codemirror_mode": {
    "name": "ipython",
    "version": 3
   },
   "file_extension": ".py",
   "mimetype": "text/x-python",
   "name": "python",
   "nbconvert_exporter": "python",
   "pygments_lexer": "ipython3",
   "version": "3.7.1"
  }
 },
 "nbformat": 4,
 "nbformat_minor": 2
}
